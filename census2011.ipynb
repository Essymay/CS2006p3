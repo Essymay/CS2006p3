{
 "cells": [
  {
   "cell_type": "markdown",
   "metadata": {},
   "source": [
    "#CS2006 Python Practical 2"
   ]
  },
  {
   "cell_type": "markdown",
   "metadata": {},
   "source": [
    "The first requirement for the practical is to refine the dataset. "
   ]
  },
  {
   "cell_type": "code",
   "execution_count": 1,
   "metadata": {},
   "outputs": [
    {
     "name": "stderr",
     "output_type": "stream",
     "text": [
      "/cs/home/ea50/.local/lib/python3.5/site-packages/IPython/html.py:14: ShimWarning:\n",
      "\n",
      "The `IPython.html` package has been deprecated since IPython 4.0. You should import from `notebook` instead. `IPython.html.widgets` has moved to `ipywidgets`.\n",
      "\n",
      "/cs/home/ea50/.local/lib/python3.5/site-packages/IPython/utils/traitlets.py:5: UserWarning:\n",
      "\n",
      "IPython.utils.traitlets has moved to a top-level traitlets package.\n",
      "\n"
     ]
    },
    {
     "data": {
      "application/javascript": [
       "window.genUID = function() {\n",
       "    return 'xxxxxxxx-xxxx-4xxx-yxxx-xxxxxxxxxxxx'.replace(/[xy]/g, function(c) {\n",
       "        var r = Math.random()*16|0, v = c == 'x' ? r : (r&0x3|0x8);\n",
       "        return v.toString(16);\n",
       "    });\n",
       "};\n",
       "\n",
       "var IPYTHON_VERSION = '3';\n",
       "\n",
       "require([\"widgets/js/widget\", \"widgets/js/manager\"], function (widget, manager) {\n",
       "    if (!('DOMWidgetView' in widget)) {\n",
       "\n",
       "        // we're in IPython2, things moved a bit from 2 --> 3.\n",
       "        // construct the expected IPython3 widget API\n",
       "        IPYTHON_VERSION = '2';\n",
       "        manager = {WidgetManager: widget};\n",
       "        widget = {DOMWidgetView: IPython.DOMWidgetView};\n",
       "    }\n",
       "\n",
       "    var GraphView = widget.DOMWidgetView.extend({\n",
       "        render: function(){\n",
       "            var that = this;\n",
       "\n",
       "            var graphId = window.genUID();\n",
       "            var loadingId = 'loading-'+graphId;\n",
       "\n",
       "\n",
       "            var _graph_url = that.model.get('_graph_url');\n",
       "\n",
       "            // variable plotlyDomain in the case of enterprise\n",
       "            var url_parts = _graph_url.split('/');\n",
       "            var plotlyDomain = url_parts[0] + '//' + url_parts[2];\n",
       "\n",
       "            if(!('plotlyDomains' in window)){\n",
       "                window.plotlyDomains = {};\n",
       "            }\n",
       "            window.plotlyDomains[graphId] = plotlyDomain;\n",
       "\n",
       "            // Place IFrame in output cell div `$el`\n",
       "            that.$el.css('width', '100%');\n",
       "            that.$graph = $(['<iframe id=\"'+graphId+'\"',\n",
       "                             'src=\"'+_graph_url+'.embed\"',\n",
       "                             'seamless',\n",
       "                             'style=\"border: none;\"',\n",
       "                             'width=\"100%\"',\n",
       "                             'height=\"600\">',\n",
       "                             '</iframe>'].join(' '));\n",
       "            that.$graph.appendTo(that.$el);\n",
       "\n",
       "            that.$loading = $('<div id=\"'+loadingId+'\">Initializing...</div>')\n",
       "                            .appendTo(that.$el);\n",
       "\n",
       "            // for some reason the 'width' is being changed in IPython 3.0.0\n",
       "            // for the containing `div` element. There's a flicker here, but\n",
       "            // I was unable to fix it otherwise.\n",
       "            setTimeout(function ()  {\n",
       "                if (IPYTHON_VERSION === '3') {\n",
       "                    $('#' + graphId)[0].parentElement.style.width = '100%';\n",
       "                }\n",
       "            }, 500);\n",
       "\n",
       "            // initialize communication with the iframe\n",
       "            if(!('pingers' in window)){\n",
       "                window.pingers = {};\n",
       "            }\n",
       "\n",
       "            window.pingers[graphId] = setInterval(function() {\n",
       "                that.graphContentWindow = $('#'+graphId)[0].contentWindow;\n",
       "                that.graphContentWindow.postMessage({task: 'ping'}, plotlyDomain);\n",
       "            }, 200);\n",
       "\n",
       "            // Assign a message listener to the 'message' events\n",
       "            // from iframe's postMessage protocol.\n",
       "            // Filter the messages by iframe src so that the right message\n",
       "            // gets passed to the right widget\n",
       "            if(!('messageListeners' in window)){\n",
       "                 window.messageListeners = {};\n",
       "            }\n",
       "\n",
       "            window.messageListeners[graphId] = function(e) {\n",
       "                if(_graph_url.indexOf(e.origin)>-1) {\n",
       "                    var frame = document.getElementById(graphId);\n",
       "\n",
       "                    if(frame === null){\n",
       "                        // frame doesn't exist in the dom anymore, clean up it's old event listener\n",
       "                        window.removeEventListener('message', window.messageListeners[graphId]);\n",
       "                        clearInterval(window.pingers[graphId]);\n",
       "                    } else if(frame.contentWindow === e.source) {\n",
       "                        // TODO: Stop event propagation, so each frame doesn't listen and filter\n",
       "                        var frameContentWindow = $('#'+graphId)[0].contentWindow;\n",
       "                        var message = e.data;\n",
       "\n",
       "                        if('pong' in message && message.pong) {\n",
       "                            $('#loading-'+graphId).hide();\n",
       "                            clearInterval(window.pingers[graphId]);\n",
       "                            that.send({event: 'pong', graphId: graphId});\n",
       "                        } else if (message.type==='hover' ||\n",
       "                                   message.type==='zoom'  ||\n",
       "                                   message.type==='click' ||\n",
       "                                   message.type==='unhover') {\n",
       "\n",
       "                            // click and hover events contain all of the data in the traces,\n",
       "                            // which can be a very large object and may take a ton of time\n",
       "                            // to pass to the python backend. Strip out the data, and require\n",
       "                            // the user to call get_figure if they need trace information\n",
       "                            if(message.type !== 'zoom') {\n",
       "                                for(var i in message.points) {\n",
       "                                    delete message.points[i].data;\n",
       "                                    delete message.points[i].fullData;\n",
       "                                }\n",
       "                            }\n",
       "                            that.send({event: message.type, message: message, graphId: graphId});\n",
       "                        } else if (message.task === 'getAttributes') {\n",
       "                            that.send({event: 'getAttributes', response: message.response});\n",
       "                        }\n",
       "                    }\n",
       "                }\n",
       "            };\n",
       "\n",
       "            window.removeEventListener('message', window.messageListeners[graphId]);\n",
       "            window.addEventListener('message', window.messageListeners[graphId]);\n",
       "\n",
       "        },\n",
       "\n",
       "        update: function() {\n",
       "            // Listen for messages from the graph widget in python\n",
       "            var jmessage = this.model.get('_message');\n",
       "            var message = JSON.parse(jmessage);\n",
       "\n",
       "            // check for duplicate messages\n",
       "            if(!('messageIds' in window)){\n",
       "                window.messageIds = {};\n",
       "            }\n",
       "\n",
       "            if(!(message.uid in window.messageIds)){\n",
       "                // message hasn't been received yet, do stuff\n",
       "                window.messageIds[message.uid] = true;\n",
       "\n",
       "                if (message.fadeTo) {\n",
       "                    this.fadeTo(message);\n",
       "                } else {\n",
       "                    var plot = $('#' + message.graphId)[0].contentWindow;\n",
       "                    plot.postMessage(message, window.plotlyDomains[message.graphId]);\n",
       "                }\n",
       "            }\n",
       "\n",
       "            return GraphView.__super__.update.apply(this);\n",
       "        },\n",
       "\n",
       "        /**\n",
       "         * Wrapper for jquery's `fadeTo` function.\n",
       "         *\n",
       "         * @param message Contains the id we need to find the element.\n",
       "         */\n",
       "        fadeTo: function (message) {\n",
       "            var plot = $('#' + message.graphId);\n",
       "            plot.fadeTo(message.duration, message.opacity);\n",
       "        }\n",
       "    });\n",
       "\n",
       "    // Register the GraphView with the widget manager.\n",
       "    manager.WidgetManager.register_widget_view('GraphView', GraphView);\n",
       "\n",
       "});\n",
       "\n",
       "//@ sourceURL=graphWidget.js\n"
      ],
      "text/plain": [
       "<IPython.core.display.Javascript object>"
      ]
     },
     "metadata": {},
     "output_type": "display_data"
    },
    {
     "data": {
      "text/html": [
       "<script>requirejs.config({paths: { 'plotly': ['https://cdn.plot.ly/plotly-latest.min']},});if(!window.Plotly) {{require(['plotly'],function(plotly) {window.Plotly=plotly;});}}</script>"
      ],
      "text/vnd.plotly.v1+html": [
       "<script>requirejs.config({paths: { 'plotly': ['https://cdn.plot.ly/plotly-latest.min']},});if(!window.Plotly) {{require(['plotly'],function(plotly) {window.Plotly=plotly;});}}</script>"
      ]
     },
     "metadata": {},
     "output_type": "display_data"
    },
    {
     "data": {
      "text/html": [
       "<script>requirejs.config({paths: { 'plotly': ['https://cdn.plot.ly/plotly-latest.min']},});if(!window.Plotly) {{require(['plotly'],function(plotly) {window.Plotly=plotly;});}}</script>"
      ],
      "text/vnd.plotly.v1+html": [
       "<script>requirejs.config({paths: { 'plotly': ['https://cdn.plot.ly/plotly-latest.min']},});if(!window.Plotly) {{require(['plotly'],function(plotly) {window.Plotly=plotly;});}}</script>"
      ]
     },
     "metadata": {},
     "output_type": "display_data"
    }
   ],
   "source": [
    "import pandas as pd\n",
    "import numpy as np\n",
    "import matplotlib.pyplot as plt\n",
    "import matplotlib.patches as patch\n",
    "from ipywidgets import *\n",
    "%matplotlib inline\n",
    "import matplotlib.pyplot as plt\n",
    "from mpl_toolkits.mplot3d.axes3d import Axes3D, get_test_data\n",
    "from mpl_toolkits.mplot3d.art3d import Poly3DCollection\n",
    "from matplotlib import cm\n",
    "from operator import itemgetter\n",
    "\n",
    "import pandas as pd\n",
    "import numpy as np\n",
    "import plotly\n",
    "import plotly.graph_objs as go\n",
    "import plotly.plotly as py\n",
    "\n",
    "from ipywidgets import widgets \n",
    "from IPython.display import display\n",
    "from plotly.graph_objs import *\n",
    "from plotly.widgets import GraphWidget\n",
    "from plotly.offline import download_plotlyjs, init_notebook_mode, plot, iplot\n",
    "plotly.offline.init_notebook_mode(connected=True)\n",
    "\n",
    "import cufflinks as cf\n",
    "init_notebook_mode(connected=True)"
   ]
  },
  {
   "cell_type": "markdown",
   "metadata": {},
   "source": [
    "So first to make sure the data is initially read in correctly, the columns which should be numbers (and not containing any strings) are selected and forced into numeric columns. This means that if any of the columns had invalid data, in the format of string for example, then that cell gets changed to 'NaN'."
   ]
  },
  {
   "cell_type": "code",
   "execution_count": 2,
   "metadata": {
    "collapsed": true
   },
   "outputs": [],
   "source": [
    "low_memory = False\n",
    "df=pd.read_csv(\"census2011.csv\")\n",
    "df[['Person ID','Family Composition', 'Population Base', 'Sex', 'Age',\n",
    "    'Marital Status','Student', 'Country of Birth', 'Health', 'Ethnic Group',\n",
    "    'Religion', 'Economic Activity', 'Occupation', 'Industry', 'Hours worked per week', 'Approximated Social Grade']]= df[['Person ID','Family Composition', 'Population Base', 'Sex', 'Age',\n",
    "    'Marital Status','Student', 'Country of Birth', 'Health', 'Ethnic Group',\n",
    "    'Religion', 'Economic Activity', 'Occupation', 'Industry', 'Hours worked per week', 'Approximated Social Grade']].apply(pd.to_numeric, errors='coerce')"
   ]
  },
  {
   "cell_type": "markdown",
   "metadata": {},
   "source": [
    "As shown below, the data types of the data set are numeric where expected."
   ]
  },
  {
   "cell_type": "code",
   "execution_count": 5,
   "metadata": {},
   "outputs": [
    {
     "data": {
      "text/plain": [
       "Person ID                     int64\n",
       "Region                       object\n",
       "Residence Type               object\n",
       "Family Composition            int64\n",
       "Population Base               int64\n",
       "Sex                           int64\n",
       "Age                           int64\n",
       "Marital Status                int64\n",
       "Student                       int64\n",
       "Country of Birth              int64\n",
       "Health                        int64\n",
       "Ethnic Group                  int64\n",
       "Religion                      int64\n",
       "Economic Activity             int64\n",
       "Occupation                    int64\n",
       "Industry                      int64\n",
       "Hours worked per week         int64\n",
       "Approximated Social Grade     int64\n",
       "dtype: object"
      ]
     },
     "execution_count": 5,
     "metadata": {},
     "output_type": "execute_result"
    }
   ],
   "source": [
    "df.dtypes"
   ]
  },
  {
   "cell_type": "markdown",
   "metadata": {},
   "source": [
    "To actually refine the data, any rows containing a cell which is 'NaN' gets dropped, and any columns which are of type 'float' gets formatted."
   ]
  },
  {
   "cell_type": "code",
   "execution_count": 6,
   "metadata": {
    "collapsed": true
   },
   "outputs": [],
   "source": [
    "refinedData = df.copy()\n",
    "refinedData = refinedData.dropna()\n",
    "pd.options.display.float_format = '{:,.0f}'.format"
   ]
  },
  {
   "cell_type": "markdown",
   "metadata": {},
   "source": [
    "More refining includes dropping any rows which are duplicates of another."
   ]
  },
  {
   "cell_type": "code",
   "execution_count": 7,
   "metadata": {
    "collapsed": true
   },
   "outputs": [],
   "source": [
    "refinedData = refinedData.drop_duplicates()"
   ]
  },
  {
   "cell_type": "markdown",
   "metadata": {},
   "source": [
    "The final refining that takes place is to make sure all the values which are in the data set are valid values for it's column, meaning that all of the values are one of optiosn specified in the file 'MicroDataTeachingVariables.pdf'."
   ]
  },
  {
   "cell_type": "code",
   "execution_count": 8,
   "metadata": {
    "collapsed": true,
    "scrolled": true
   },
   "outputs": [],
   "source": [
    "regions = [\"E12000001\",\"E12000002\",\"E12000003\",\"E12000004\",\"E12000005\",\"E12000006\",\"E12000007\",\"E12000008\",\"E12000009\",\"W92000004\"]\n",
    "residenceType = [\"C\",\"H\"]\n",
    "famComp = [1,2,3,4,5,6,-9]\n",
    "popBase = [1,2,3]\n",
    "sex = [1,2]\n",
    "age = [1,2,3,4,5,6,7,8]\n",
    "maritalStatus = [1,2,3,4,5]\n",
    "student = [1,2]\n",
    "countryOfBirth = [1,2,-9]\n",
    "health = [1,2,3,4,5,-9]\n",
    "ethnicGroup = [1,2,3,4,5,-9]\n",
    "religion = [1,2,3,4,5,6,7,8,9,-9]\n",
    "econActivity = [1,2,3,4,5,6,7,8,9,-9]\n",
    "occupation = [1,2,3,4,5,6,7,8,9,-9]\n",
    "industry = [1,2,3,4,5,6,7,8,9,10,11,12,-9]\n",
    "hoursWorkPerWeek = [1,2,3,4,-9]\n",
    "approxSocialGrade = [1,2,3,4,-9]\n",
    "\n",
    "rowsToRemove = []\n",
    "\n",
    "rCounter = 0\n",
    "regs = refinedData['Region']\n",
    "for reg in regs:\n",
    "    flag = 1\n",
    "    for region in regions:\n",
    "                if region == reg:\n",
    "                    flag = 0\n",
    "    if flag == 1:\n",
    "        rowsToRemove.append(rCounter)\n",
    "    rCounter = rCounter + 1\n",
    "\n",
    "rCounter = 0\n",
    "res = refinedData['Residence Type']  \n",
    "for r in res:\n",
    "    flag = 1\n",
    "    for resType in residenceType:\n",
    "                if resType == r:\n",
    "                    flag = 0\n",
    "    if flag == 1:\n",
    "        rowsToRemove.append(rCounter)\n",
    "    rCounter = rCounter + 1\n",
    "    \n",
    "rCounter = 0\n",
    "family = refinedData['Family Composition']  \n",
    "for comp in family:\n",
    "    flag = 1\n",
    "    for f in famComp:\n",
    "                if f == comp:\n",
    "                    flag = 0\n",
    "    if flag == 1:\n",
    "        rowsToRemove.append(rCounter)\n",
    "    rCounter = rCounter + 1\n",
    "\n",
    "rCounter = 0\n",
    "population = refinedData['Population Base']  \n",
    "for base in population:\n",
    "    flag = 1\n",
    "    for pop in popBase:\n",
    "                if pop == base:\n",
    "                    flag = 0\n",
    "    if flag == 1:\n",
    "        rowsToRemove.append(rCounter)\n",
    "    rCounter = rCounter + 1\n",
    "    \n",
    "rCounter = 0\n",
    "gender = refinedData['Sex']  \n",
    "for g in gender:\n",
    "    flag = 1\n",
    "    for gend in sex:\n",
    "                if gend == g:\n",
    "                    flag = 0\n",
    "    if flag == 1:\n",
    "        rowsToRemove.append(rCounter)\n",
    "    rCounter = rCounter + 1\n",
    "    \n",
    "rCounter = 0\n",
    "ageRange = refinedData['Age']  \n",
    "for rangee in ageRange:\n",
    "    flag = 1\n",
    "    for agee in age:\n",
    "                if agee == rangee:\n",
    "                    flag = 0\n",
    "    if flag == 1:\n",
    "        rowsToRemove.append(rCounter)\n",
    "    rCounter = rCounter + 1\n",
    "    \n",
    "rCounter = 0\n",
    "mStatus = refinedData['Marital Status']  \n",
    "for m in mStatus:\n",
    "    flag = 1\n",
    "    for married in maritalStatus:\n",
    "                if married == m:\n",
    "                    flag = 0\n",
    "    if flag == 1:\n",
    "        rowsToRemove.append(rCounter)\n",
    "    rCounter = rCounter + 1\n",
    "    \n",
    "rCounter = 0\n",
    "studs = refinedData['Student']  \n",
    "for stud in studs:\n",
    "    flag = 1\n",
    "    for isStud in student:\n",
    "                if isStud == stud:\n",
    "                    flag = 0\n",
    "    if flag == 1:\n",
    "        rowsToRemove.append(rCounter)\n",
    "    rCounter = rCounter + 1\n",
    "    \n",
    "rCounter = 0\n",
    "births = refinedData['Country of Birth']  \n",
    "for bir in births:\n",
    "    flag = 1\n",
    "    for country in countryOfBirth:\n",
    "                if country == bir:\n",
    "                    flag = 0\n",
    "    if flag == 1:\n",
    "        rowsToRemove.append(rCounter)\n",
    "    rCounter = rCounter + 1\n",
    "    \n",
    "rCounter = 0\n",
    "healths = refinedData['Health']  \n",
    "for heal in healths:\n",
    "    flag = 1\n",
    "    for he in health:\n",
    "                if he == heal:\n",
    "                    flag = 0\n",
    "    if flag == 1:\n",
    "        rowsToRemove.append(rCounter)\n",
    "    rCounter = rCounter + 1\n",
    "    \n",
    "rCounter = 0\n",
    "ethnics = refinedData['Ethnic Group']  \n",
    "for ethnic in ethnics:\n",
    "    flag = 1\n",
    "    for eth in ethnicGroup:\n",
    "                if eth == ethnic:\n",
    "                    flag = 0\n",
    "    if flag == 1:\n",
    "        rowsToRemove.append(rCounter)\n",
    "    rCounter = rCounter + 1\n",
    "    \n",
    "rCounter = 0\n",
    "religions = refinedData['Religion']  \n",
    "for rel in religions:\n",
    "    flag = 1\n",
    "    for reli in religion:\n",
    "                if reli == rel:\n",
    "                    flag = 0\n",
    "    if flag == 1:\n",
    "        rowsToRemove.append(rCounter)\n",
    "    rCounter = rCounter + 1\n",
    "    \n",
    "rCounter = 0\n",
    "economics = refinedData['Economic Activity']  \n",
    "for economic in economics:\n",
    "    flag = 1\n",
    "    for econ in econActivity:\n",
    "                if econ == economic:\n",
    "                    flag = 0\n",
    "    if flag == 1:\n",
    "        rowsToRemove.append(rCounter)\n",
    "    rCounter = rCounter + 1\n",
    "    \n",
    "rCounter = 0\n",
    "occupations = refinedData['Occupation']  \n",
    "for oc in occupations:\n",
    "    flag = 1\n",
    "    for occup in occupation:\n",
    "                if occup == oc:\n",
    "                    flag = 0\n",
    "    if flag == 1:\n",
    "        rowsToRemove.append(rCounter)\n",
    "    rCounter = rCounter + 1\n",
    "    if rCounter >200:\n",
    "        break\n",
    "\n",
    "rCounter = 0\n",
    "industries = refinedData['Industry']  \n",
    "for indust in industries:\n",
    "    flag = 1\n",
    "    for ind in industry:\n",
    "                if ind == indust:\n",
    "                    flag = 0\n",
    "    if flag == 1:\n",
    "        rowsToRemove.append(rCounter)\n",
    "    rCounter = rCounter + 1\n",
    "    \n",
    "rCounter = 0\n",
    "hoursWorked = refinedData['Hours worked per week']  \n",
    "for hours in hoursWorked:\n",
    "    flag = 1\n",
    "    for work in hoursWorkPerWeek:\n",
    "                if work == hours:\n",
    "                    flag = 0\n",
    "    if flag == 1:\n",
    "        rowsToRemove.append(rCounter)\n",
    "    rCounter = rCounter + 1\n",
    "    \n",
    "rCounter = 0\n",
    "grades = refinedData['Approximated Social Grade']  \n",
    "for grade in grades:\n",
    "    flag = 1\n",
    "    for approx in approxSocialGrade:\n",
    "                if approx == grade:\n",
    "                    flag = 0\n",
    "    if flag == 1:\n",
    "        rowsToRemove.append(rCounter)\n",
    "    rCounter = rCounter + 1\n",
    "    \n",
    "rowsToRemove.sort(reverse=True)\n",
    "\n",
    "for i in rowsToRemove:\n",
    "    refinedData = refinedData.drop(refinedData.index[[i]])\n",
    "\n",
    "refinedData.to_csv(\"refinedData.csv\")\n"
   ]
  },
  {
   "cell_type": "markdown",
   "metadata": {},
   "source": [
    "The second basic requirement is to perform descriptive analysis of the dataset.\n",
    "\n",
    "The first descriptive analysis task is to determine the total number of records in the dataset."
   ]
  },
  {
   "cell_type": "code",
   "execution_count": 9,
   "metadata": {},
   "outputs": [
    {
     "data": {
      "text/plain": [
       "569741"
      ]
     },
     "execution_count": 9,
     "metadata": {},
     "output_type": "execute_result"
    }
   ],
   "source": [
    "len(refinedData)"
   ]
  },
  {
   "cell_type": "markdown",
   "metadata": {},
   "source": [
    "The second descriptice analysis task is to determine the type of each variable in the dataset."
   ]
  },
  {
   "cell_type": "code",
   "execution_count": 10,
   "metadata": {},
   "outputs": [
    {
     "data": {
      "text/plain": [
       "Person ID                     int64\n",
       "Region                       object\n",
       "Residence Type               object\n",
       "Family Composition            int64\n",
       "Population Base               int64\n",
       "Sex                           int64\n",
       "Age                           int64\n",
       "Marital Status                int64\n",
       "Student                       int64\n",
       "Country of Birth              int64\n",
       "Health                        int64\n",
       "Ethnic Group                  int64\n",
       "Religion                      int64\n",
       "Economic Activity             int64\n",
       "Occupation                    int64\n",
       "Industry                      int64\n",
       "Hours worked per week         int64\n",
       "Approximated Social Grade     int64\n",
       "dtype: object"
      ]
     },
     "execution_count": 10,
     "metadata": {},
     "output_type": "execute_result"
    }
   ],
   "source": [
    "refinedData.dtypes"
   ]
  },
  {
   "cell_type": "markdown",
   "metadata": {},
   "source": [
    "The third descriptive analysis task is for each variable, except \"Person ID\", find all values that it takes, and the number of occurances for each value."
   ]
  },
  {
   "cell_type": "code",
   "execution_count": 11,
   "metadata": {},
   "outputs": [
    {
     "data": {
      "text/plain": [
       "Region\n",
       "E12000001    26349\n",
       "E12000002    71436\n",
       "E12000003    53471\n",
       "E12000004    45782\n",
       "E12000005    56875\n",
       "E12000006    59411\n",
       "E12000007    83582\n",
       "E12000008    88084\n",
       "E12000009    53774\n",
       "W92000004    30977\n",
       "dtype: int64"
      ]
     },
     "execution_count": 11,
     "metadata": {},
     "output_type": "execute_result"
    }
   ],
   "source": [
    "region = refinedData.groupby('Region')\n",
    "region.size()"
   ]
  },
  {
   "cell_type": "code",
   "execution_count": 12,
   "metadata": {},
   "outputs": [
    {
     "data": {
      "text/plain": [
       "Residence Type\n",
       "C     10654\n",
       "H    559087\n",
       "dtype: int64"
      ]
     },
     "execution_count": 12,
     "metadata": {},
     "output_type": "execute_result"
    }
   ],
   "source": [
    "residenceType = refinedData.groupby('Residence Type')\n",
    "residenceType.size()"
   ]
  },
  {
   "cell_type": "code",
   "execution_count": 13,
   "metadata": {},
   "outputs": [
    {
     "data": {
      "text/plain": [
       "Family Composition\n",
       "-9     18851\n",
       " 1     96690\n",
       " 2    300962\n",
       " 3     72641\n",
       " 4      9848\n",
       " 5     64519\n",
       " 6      6230\n",
       "dtype: int64"
      ]
     },
     "execution_count": 13,
     "metadata": {},
     "output_type": "execute_result"
    }
   ],
   "source": [
    "familyComposition = refinedData.groupby('Family Composition')\n",
    "familyComposition.size()"
   ]
  },
  {
   "cell_type": "code",
   "execution_count": 14,
   "metadata": {},
   "outputs": [
    {
     "data": {
      "text/plain": [
       "Population Base\n",
       "1    561040\n",
       "2      6730\n",
       "3      1971\n",
       "dtype: int64"
      ]
     },
     "execution_count": 14,
     "metadata": {},
     "output_type": "execute_result"
    }
   ],
   "source": [
    "populationBase = refinedData.groupby('Population Base')\n",
    "populationBase.size()"
   ]
  },
  {
   "cell_type": "code",
   "execution_count": 15,
   "metadata": {},
   "outputs": [
    {
     "data": {
      "text/plain": [
       "Sex\n",
       "1    280569\n",
       "2    289172\n",
       "dtype: int64"
      ]
     },
     "execution_count": 15,
     "metadata": {},
     "output_type": "execute_result"
    }
   ],
   "source": [
    "sex = refinedData.groupby('Sex')\n",
    "sex.size()"
   ]
  },
  {
   "cell_type": "code",
   "execution_count": 16,
   "metadata": {},
   "outputs": [
    {
     "data": {
      "text/plain": [
       "Age\n",
       "1    106832\n",
       "2     72785\n",
       "3     75948\n",
       "4     78641\n",
       "5     77388\n",
       "6     65666\n",
       "7     48777\n",
       "8     43704\n",
       "dtype: int64"
      ]
     },
     "execution_count": 16,
     "metadata": {},
     "output_type": "execute_result"
    }
   ],
   "source": [
    "age = refinedData.groupby('Age')\n",
    "age.size()"
   ]
  },
  {
   "cell_type": "code",
   "execution_count": 17,
   "metadata": {},
   "outputs": [
    {
     "data": {
      "text/plain": [
       "Marital Status\n",
       "1    270999\n",
       "2    214180\n",
       "3     11951\n",
       "4     40713\n",
       "5     31898\n",
       "dtype: int64"
      ]
     },
     "execution_count": 17,
     "metadata": {},
     "output_type": "execute_result"
    }
   ],
   "source": [
    "maritalStatus = refinedData.groupby('Marital Status')\n",
    "maritalStatus.size()"
   ]
  },
  {
   "cell_type": "code",
   "execution_count": 18,
   "metadata": {},
   "outputs": [
    {
     "data": {
      "text/plain": [
       "Student\n",
       "1    126537\n",
       "2    443204\n",
       "dtype: int64"
      ]
     },
     "execution_count": 18,
     "metadata": {},
     "output_type": "execute_result"
    }
   ],
   "source": [
    "student = refinedData.groupby('Student')\n",
    "student.size()"
   ]
  },
  {
   "cell_type": "code",
   "execution_count": 19,
   "metadata": {},
   "outputs": [
    {
     "data": {
      "text/plain": [
       "Country of Birth\n",
       "-9      6804\n",
       " 1    485645\n",
       " 2     77292\n",
       "dtype: int64"
      ]
     },
     "execution_count": 19,
     "metadata": {},
     "output_type": "execute_result"
    }
   ],
   "source": [
    "countryOfBirth = refinedData.groupby('Country of Birth')\n",
    "countryOfBirth.size()"
   ]
  },
  {
   "cell_type": "code",
   "execution_count": 20,
   "metadata": {},
   "outputs": [
    {
     "data": {
      "text/plain": [
       "Health\n",
       "-9      6804\n",
       " 1    264971\n",
       " 2    191744\n",
       " 3     74480\n",
       " 4     24558\n",
       " 5      7184\n",
       "dtype: int64"
      ]
     },
     "execution_count": 20,
     "metadata": {},
     "output_type": "execute_result"
    }
   ],
   "source": [
    "health = refinedData.groupby('Health')\n",
    "health.size()"
   ]
  },
  {
   "cell_type": "code",
   "execution_count": 21,
   "metadata": {},
   "outputs": [
    {
     "data": {
      "text/plain": [
       "Ethnic Group\n",
       "-9      6804\n",
       " 1    483477\n",
       " 2     12209\n",
       " 3     42712\n",
       " 4     18786\n",
       " 5      5753\n",
       "dtype: int64"
      ]
     },
     "execution_count": 21,
     "metadata": {},
     "output_type": "execute_result"
    }
   ],
   "source": [
    "ethnicGroup = refinedData.groupby('Ethnic Group')\n",
    "ethnicGroup.size()"
   ]
  },
  {
   "cell_type": "code",
   "execution_count": 22,
   "metadata": {},
   "outputs": [
    {
     "data": {
      "text/plain": [
       "Religion\n",
       "-9      6804\n",
       " 1    141658\n",
       " 2    333481\n",
       " 3      2538\n",
       " 4      8214\n",
       " 5      2572\n",
       " 6     27240\n",
       " 7      4215\n",
       " 8      2406\n",
       " 9     40613\n",
       "dtype: int64"
      ]
     },
     "execution_count": 22,
     "metadata": {},
     "output_type": "execute_result"
    }
   ],
   "source": [
    "religion = refinedData.groupby('Religion')\n",
    "religion.size()"
   ]
  },
  {
   "cell_type": "code",
   "execution_count": 23,
   "metadata": {},
   "outputs": [
    {
     "data": {
      "text/plain": [
       "Economic Activity\n",
       "-9    112618\n",
       " 1    216025\n",
       " 2     40632\n",
       " 3     18109\n",
       " 4     14117\n",
       " 5     97480\n",
       " 6     24756\n",
       " 7     17945\n",
       " 8     17991\n",
       " 9     10068\n",
       "dtype: int64"
      ]
     },
     "execution_count": 23,
     "metadata": {},
     "output_type": "execute_result"
    }
   ],
   "source": [
    "economicActivity = refinedData.groupby('Economic Activity')\n",
    "economicActivity.size()"
   ]
  },
  {
   "cell_type": "code",
   "execution_count": 24,
   "metadata": {},
   "outputs": [
    {
     "data": {
      "text/plain": [
       "Occupation\n",
       "-9    149984\n",
       " 1     39788\n",
       " 2     64111\n",
       " 3     44937\n",
       " 4     53254\n",
       " 5     48546\n",
       " 6     37297\n",
       " 7     38523\n",
       " 8     34818\n",
       " 9     58483\n",
       "dtype: int64"
      ]
     },
     "execution_count": 24,
     "metadata": {},
     "output_type": "execute_result"
    }
   ],
   "source": [
    "occupation = refinedData.groupby('Occupation')\n",
    "occupation.size()"
   ]
  },
  {
   "cell_type": "code",
   "execution_count": 25,
   "metadata": {},
   "outputs": [
    {
     "data": {
      "text/plain": [
       "Industry\n",
       "-9     149984\n",
       " 1       3957\n",
       " 2      53433\n",
       " 3      30708\n",
       " 4      68878\n",
       " 5      25736\n",
       " 6      35240\n",
       " 7      16776\n",
       " 8      49960\n",
       " 9      24908\n",
       " 10     40560\n",
       " 11     49345\n",
       " 12     20256\n",
       "dtype: int64"
      ]
     },
     "execution_count": 25,
     "metadata": {},
     "output_type": "execute_result"
    }
   ],
   "source": [
    "industry = refinedData.groupby('Industry')\n",
    "industry.size()"
   ]
  },
  {
   "cell_type": "code",
   "execution_count": 26,
   "metadata": {},
   "outputs": [
    {
     "data": {
      "text/plain": [
       "Hours worked per week\n",
       "-9    302321\n",
       " 1     25776\n",
       " 2     52133\n",
       " 3    153938\n",
       " 4     35573\n",
       "dtype: int64"
      ]
     },
     "execution_count": 26,
     "metadata": {},
     "output_type": "execute_result"
    }
   ],
   "source": [
    "hoursWorkedPerWeek = refinedData.groupby('Hours worked per week')\n",
    "hoursWorkedPerWeek.size()"
   ]
  },
  {
   "cell_type": "code",
   "execution_count": 27,
   "metadata": {},
   "outputs": [
    {
     "data": {
      "text/plain": [
       "Approximated Social Grade\n",
       "-9    124103\n",
       " 1     82320\n",
       " 2    159642\n",
       " 3     79936\n",
       " 4    123740\n",
       "dtype: int64"
      ]
     },
     "execution_count": 27,
     "metadata": {},
     "output_type": "execute_result"
    }
   ],
   "source": [
    "approximatedSocialGrade = refinedData.groupby('Approximated Social Grade')\n",
    "approximatedSocialGrade.size()"
   ]
  },
  {
   "cell_type": "markdown",
   "metadata": {},
   "source": [
    "The third requirement was to build plots for the data specified in the practical specification.\n",
    "The first plot is a bar chart for the number of records for each region."
   ]
  },
  {
   "cell_type": "code",
   "execution_count": 28,
   "metadata": {},
   "outputs": [
    {
     "data": {
      "image/png": "[encoded data removed]",
      "text/plain": [
       "<matplotlib.figure.Figure at 0x7f7bc871bc50>"
      ]
     },
     "metadata": {},
     "output_type": "display_data"
    }
   ],
   "source": [
    "refinedData['Region'].value_counts().plot(kind=\"bar\")\n",
    "\n",
    "region1_patch = patch.Patch(label='E12000008 = South East')\n",
    "region2_patch = patch.Patch(label='E12000007 = London')\n",
    "region3_patch = patch.Patch(label='E12000002 = North West')\n",
    "region4_patch = patch.Patch(label='E12000006 = East of England')\n",
    "region5_patch = patch.Patch(label='E12000005 = West Midlands')\n",
    "region6_patch = patch.Patch(label='E12000009 =  South West')\n",
    "region7_patch = patch.Patch(label='E12000003 = Yorkshire and the Humber')\n",
    "region8_patch = patch.Patch(label='E12000004 = East Midlands')\n",
    "region9_patch = patch.Patch(label='W92000004 = Wales')\n",
    "region10_patch = patch.Patch(label='E12000001 = North East')\n",
    "\n",
    "plt.legend(handles=[region1_patch,region2_patch,region3_patch,region4_patch,region5_patch,region6_patch,region7_patch,region8_patch,region9_patch,region10_patch], loc = 'lower right', bbox_to_anchor=(0.5,1.05))\n",
    "plt.show()"
   ]
  },
  {
   "cell_type": "markdown",
   "metadata": {},
   "source": [
    "The second plot is a bar chart for the number of records for each occupation."
   ]
  },
  {
   "cell_type": "code",
   "execution_count": 29,
   "metadata": {},
   "outputs": [
    {
     "data": {
      "image/png": "[encoded data removed]",
      "text/plain": [
       "<matplotlib.figure.Figure at 0x7f7bce614da0>"
      ]
     },
     "metadata": {},
     "output_type": "display_data"
    }
   ],
   "source": [
    "refinedData['Occupation'].value_counts().plot(kind=\"bar\")\n",
    "\n",
    "occupation1_patch = patch.Patch(label='-9 = People under 16 or People who have never worked')\n",
    "occupation2_patch = patch.Patch(label='2 = Professional Occupations')\n",
    "occupation3_patch = patch.Patch(label='9 = Elementary Occupations')\n",
    "occupation4_patch = patch.Patch(label='4 = Administrative and Secreterial Occupations')\n",
    "occupation5_patch = patch.Patch(label='5 = Skilled Trade Occupations')\n",
    "occupation6_patch = patch.Patch(label='3 = Associate Profession and Technical Occupations')\n",
    "occupation7_patch = patch.Patch(label='1 = Managers, Directors and Senior Officals')\n",
    "occupation8_patch = patch.Patch(label='7 = Sales and Customer Service Occupations')\n",
    "occupation9_patch = patch.Patch(label='6 = Caring, Leisure and Other Service Occupations')\n",
    "occupation10_patch = patch.Patch(label='8 = Process Plant and Machine Operatives')\n",
    "\n",
    "plt.legend(handles=[occupation1_patch,occupation2_patch,occupation3_patch,occupation4_patch,occupation5_patch,occupation6_patch,occupation7_patch,occupation8_patch,occupation9_patch,occupation10_patch], loc = 'lower right', bbox_to_anchor=(0.5,1.05))\n",
    "plt.show()"
   ]
  },
  {
   "cell_type": "markdown",
   "metadata": {},
   "source": [
    "The third plot is a pie chart for the distribution of the sample by age."
   ]
  },
  {
   "cell_type": "code",
   "execution_count": 30,
   "metadata": {},
   "outputs": [
    {
     "data": {
      "image/png": "[encoded data removed]",
      "text/plain": [
       "<matplotlib.figure.Figure at 0x7f7bce4e5080>"
      ]
     },
     "metadata": {},
     "output_type": "display_data"
    }
   ],
   "source": [
    "colors = ['#ff0000', '#800000', '#cc3300', '#ffff00', '#ff9933', '#ffff99', '#663300', '#ff6600']\n",
    "    \n",
    "refinedData['Age'].value_counts().plot(kind=\"pie\", colors = colors)\n",
    "\n",
    "five_patch = patch.Patch(color='#cc3300', label='5 = 45-54 years')\n",
    "four_patch = patch.Patch(color='#800000', label='4 = 35-44 years')\n",
    "two_patch = patch.Patch(color='#ff9933', label='2 = 16-24 years')\n",
    "six_patch = patch.Patch(color='#ffff99', label='6 = 55-64 years')\n",
    "seven_patch = patch.Patch(color='#663300', label='7 = 65-74 years')\n",
    "one_patch = patch.Patch(color='#ff0000', label='1 = 0-15 years')\n",
    "eight_patch = patch.Patch(color='#ff6600', label='8 = 75 and Over years')\n",
    "three_patch = patch.Patch(color='#ffff00', label='3 = 25 to 34 years')\n",
    "\n",
    "plt.legend(handles=[one_patch, two_patch, three_patch, four_patch, five_patch, six_patch, seven_patch, eight_patch], loc = 'lower right', bbox_to_anchor=(0.5,1.05))\n",
    "plt.show()"
   ]
  },
  {
   "cell_type": "markdown",
   "metadata": {},
   "source": [
    "The forth plot is a pie chart for the distribution of the sample by the economic activity."
   ]
  },
  {
   "cell_type": "code",
   "execution_count": 31,
   "metadata": {},
   "outputs": [
    {
     "data": {
      "image/png": "[encoded data removed]",
      "text/plain": [
       "<matplotlib.figure.Figure at 0x7f7bce4f53c8>"
      ]
     },
     "metadata": {},
     "output_type": "display_data"
    }
   ],
   "source": [
    "colors = ['#009933', '#00cc66', '#009999', '#336699', '#003399', '#0099ff', '#00ffcc', '#3333cc', '#9999ff', '#99ccff']\n",
    "refinedData['Economic Activity'].value_counts().plot(kind=\"pie\", colors = colors)\n",
    "\n",
    "five_patch = patch.Patch(color='#009999', label='5 = Retired')\n",
    "minusnine_patch = patch.Patch(color='#00cc66', label='-9 = Aged under 16 or Student Living away from Home')\n",
    "six_patch = patch.Patch(color='#003399', label='6 = Student')\n",
    "three_patch = patch.Patch(color='#0099ff', label='3 = Unemployed')\n",
    "eight_patch = patch.Patch(color='#00ffcc', label='8 = Long-term sick or Disabled')\n",
    "one_patch = patch.Patch(color='#009933', label='1 =  Employee')\n",
    "seven_patch = patch.Patch(color='#3333cc', label='7 = Looking after home or family')\n",
    "four_patch = patch.Patch(color='#9999ff', label='4 = Full-time Student')\n",
    "nine_patch = patch.Patch(color='#99ccff', label='9 = Other')\n",
    "two_patch = patch.Patch(color='#336699', label = '2 = Self-employed')\n",
    "\n",
    "plt.legend(handles=[one_patch, two_patch, three_patch, four_patch, five_patch, six_patch, seven_patch, eight_patch, nine_patch, minusnine_patch], loc = 'lower right', bbox_to_anchor=(0.5,1.05))\n",
    "plt.show()"
   ]
  },
  {
   "cell_type": "markdown",
   "metadata": {},
   "source": [
    "The first easy additional requirement, is to produce two tables, using 'groupby' objects.\n",
    "The first table to be produced is the number of record by region and industry."
   ]
  },
  {
   "cell_type": "code",
   "execution_count": 32,
   "metadata": {},
   "outputs": [
    {
     "data": {
      "text/html": [
       "<div>\n",
       "<table border=\"1\" class=\"dataframe\">\n",
       "  <thead>\n",
       "    <tr style=\"text-align: right;\">\n",
       "      <th></th>\n",
       "      <th>Region</th>\n",
       "      <th>Industry</th>\n",
       "      <th>Count</th>\n",
       "    </tr>\n",
       "  </thead>\n",
       "  <tbody>\n",
       "    <tr>\n",
       "      <th>0</th>\n",
       "      <td>E12000001</td>\n",
       "      <td>-9</td>\n",
       "      <td>6854</td>\n",
       "    </tr>\n",
       "    <tr>\n",
       "      <th>1</th>\n",
       "      <td>E12000001</td>\n",
       "      <td>1</td>\n",
       "      <td>132</td>\n",
       "    </tr>\n",
       "    <tr>\n",
       "      <th>2</th>\n",
       "      <td>E12000001</td>\n",
       "      <td>2</td>\n",
       "      <td>2851</td>\n",
       "    </tr>\n",
       "    <tr>\n",
       "      <th>3</th>\n",
       "      <td>E12000001</td>\n",
       "      <td>3</td>\n",
       "      <td>1574</td>\n",
       "    </tr>\n",
       "    <tr>\n",
       "      <th>4</th>\n",
       "      <td>E12000001</td>\n",
       "      <td>4</td>\n",
       "      <td>3087</td>\n",
       "    </tr>\n",
       "    <tr>\n",
       "      <th>5</th>\n",
       "      <td>E12000001</td>\n",
       "      <td>5</td>\n",
       "      <td>1300</td>\n",
       "    </tr>\n",
       "    <tr>\n",
       "      <th>6</th>\n",
       "      <td>E12000001</td>\n",
       "      <td>6</td>\n",
       "      <td>1438</td>\n",
       "    </tr>\n",
       "    <tr>\n",
       "      <th>7</th>\n",
       "      <td>E12000001</td>\n",
       "      <td>7</td>\n",
       "      <td>524</td>\n",
       "    </tr>\n",
       "    <tr>\n",
       "      <th>8</th>\n",
       "      <td>E12000001</td>\n",
       "      <td>8</td>\n",
       "      <td>1883</td>\n",
       "    </tr>\n",
       "    <tr>\n",
       "      <th>9</th>\n",
       "      <td>E12000001</td>\n",
       "      <td>9</td>\n",
       "      <td>1498</td>\n",
       "    </tr>\n",
       "    <tr>\n",
       "      <th>10</th>\n",
       "      <td>E12000001</td>\n",
       "      <td>10</td>\n",
       "      <td>1836</td>\n",
       "    </tr>\n",
       "    <tr>\n",
       "      <th>11</th>\n",
       "      <td>E12000001</td>\n",
       "      <td>11</td>\n",
       "      <td>2524</td>\n",
       "    </tr>\n",
       "    <tr>\n",
       "      <th>12</th>\n",
       "      <td>E12000001</td>\n",
       "      <td>12</td>\n",
       "      <td>848</td>\n",
       "    </tr>\n",
       "    <tr>\n",
       "      <th>13</th>\n",
       "      <td>E12000002</td>\n",
       "      <td>-9</td>\n",
       "      <td>18755</td>\n",
       "    </tr>\n",
       "    <tr>\n",
       "      <th>14</th>\n",
       "      <td>E12000002</td>\n",
       "      <td>1</td>\n",
       "      <td>357</td>\n",
       "    </tr>\n",
       "    <tr>\n",
       "      <th>15</th>\n",
       "      <td>E12000002</td>\n",
       "      <td>2</td>\n",
       "      <td>7726</td>\n",
       "    </tr>\n",
       "    <tr>\n",
       "      <th>16</th>\n",
       "      <td>E12000002</td>\n",
       "      <td>3</td>\n",
       "      <td>3778</td>\n",
       "    </tr>\n",
       "    <tr>\n",
       "      <th>17</th>\n",
       "      <td>E12000002</td>\n",
       "      <td>4</td>\n",
       "      <td>9016</td>\n",
       "    </tr>\n",
       "    <tr>\n",
       "      <th>18</th>\n",
       "      <td>E12000002</td>\n",
       "      <td>5</td>\n",
       "      <td>3355</td>\n",
       "    </tr>\n",
       "    <tr>\n",
       "      <th>19</th>\n",
       "      <td>E12000002</td>\n",
       "      <td>6</td>\n",
       "      <td>3981</td>\n",
       "    </tr>\n",
       "    <tr>\n",
       "      <th>20</th>\n",
       "      <td>E12000002</td>\n",
       "      <td>7</td>\n",
       "      <td>1597</td>\n",
       "    </tr>\n",
       "    <tr>\n",
       "      <th>21</th>\n",
       "      <td>E12000002</td>\n",
       "      <td>8</td>\n",
       "      <td>5822</td>\n",
       "    </tr>\n",
       "    <tr>\n",
       "      <th>22</th>\n",
       "      <td>E12000002</td>\n",
       "      <td>9</td>\n",
       "      <td>3096</td>\n",
       "    </tr>\n",
       "    <tr>\n",
       "      <th>23</th>\n",
       "      <td>E12000002</td>\n",
       "      <td>10</td>\n",
       "      <td>4890</td>\n",
       "    </tr>\n",
       "    <tr>\n",
       "      <th>24</th>\n",
       "      <td>E12000002</td>\n",
       "      <td>11</td>\n",
       "      <td>6764</td>\n",
       "    </tr>\n",
       "    <tr>\n",
       "      <th>25</th>\n",
       "      <td>E12000002</td>\n",
       "      <td>12</td>\n",
       "      <td>2299</td>\n",
       "    </tr>\n",
       "    <tr>\n",
       "      <th>26</th>\n",
       "      <td>E12000003</td>\n",
       "      <td>-9</td>\n",
       "      <td>14089</td>\n",
       "    </tr>\n",
       "    <tr>\n",
       "      <th>27</th>\n",
       "      <td>E12000003</td>\n",
       "      <td>1</td>\n",
       "      <td>362</td>\n",
       "    </tr>\n",
       "    <tr>\n",
       "      <th>28</th>\n",
       "      <td>E12000003</td>\n",
       "      <td>2</td>\n",
       "      <td>5956</td>\n",
       "    </tr>\n",
       "    <tr>\n",
       "      <th>29</th>\n",
       "      <td>E12000003</td>\n",
       "      <td>3</td>\n",
       "      <td>3028</td>\n",
       "    </tr>\n",
       "    <tr>\n",
       "      <th>...</th>\n",
       "      <td>...</td>\n",
       "      <td>...</td>\n",
       "      <td>...</td>\n",
       "    </tr>\n",
       "    <tr>\n",
       "      <th>100</th>\n",
       "      <td>E12000008</td>\n",
       "      <td>9</td>\n",
       "      <td>4145</td>\n",
       "    </tr>\n",
       "    <tr>\n",
       "      <th>101</th>\n",
       "      <td>E12000008</td>\n",
       "      <td>10</td>\n",
       "      <td>6593</td>\n",
       "    </tr>\n",
       "    <tr>\n",
       "      <th>102</th>\n",
       "      <td>E12000008</td>\n",
       "      <td>11</td>\n",
       "      <td>7344</td>\n",
       "    </tr>\n",
       "    <tr>\n",
       "      <th>103</th>\n",
       "      <td>E12000008</td>\n",
       "      <td>12</td>\n",
       "      <td>3316</td>\n",
       "    </tr>\n",
       "    <tr>\n",
       "      <th>104</th>\n",
       "      <td>E12000009</td>\n",
       "      <td>-9</td>\n",
       "      <td>12401</td>\n",
       "    </tr>\n",
       "    <tr>\n",
       "      <th>105</th>\n",
       "      <td>E12000009</td>\n",
       "      <td>1</td>\n",
       "      <td>697</td>\n",
       "    </tr>\n",
       "    <tr>\n",
       "      <th>106</th>\n",
       "      <td>E12000009</td>\n",
       "      <td>2</td>\n",
       "      <td>5012</td>\n",
       "    </tr>\n",
       "    <tr>\n",
       "      <th>107</th>\n",
       "      <td>E12000009</td>\n",
       "      <td>3</td>\n",
       "      <td>3033</td>\n",
       "    </tr>\n",
       "    <tr>\n",
       "      <th>108</th>\n",
       "      <td>E12000009</td>\n",
       "      <td>4</td>\n",
       "      <td>6899</td>\n",
       "    </tr>\n",
       "    <tr>\n",
       "      <th>109</th>\n",
       "      <td>E12000009</td>\n",
       "      <td>5</td>\n",
       "      <td>2712</td>\n",
       "    </tr>\n",
       "    <tr>\n",
       "      <th>110</th>\n",
       "      <td>E12000009</td>\n",
       "      <td>6</td>\n",
       "      <td>2961</td>\n",
       "    </tr>\n",
       "    <tr>\n",
       "      <th>111</th>\n",
       "      <td>E12000009</td>\n",
       "      <td>7</td>\n",
       "      <td>1510</td>\n",
       "    </tr>\n",
       "    <tr>\n",
       "      <th>112</th>\n",
       "      <td>E12000009</td>\n",
       "      <td>8</td>\n",
       "      <td>4475</td>\n",
       "    </tr>\n",
       "    <tr>\n",
       "      <th>113</th>\n",
       "      <td>E12000009</td>\n",
       "      <td>9</td>\n",
       "      <td>2973</td>\n",
       "    </tr>\n",
       "    <tr>\n",
       "      <th>114</th>\n",
       "      <td>E12000009</td>\n",
       "      <td>10</td>\n",
       "      <td>4039</td>\n",
       "    </tr>\n",
       "    <tr>\n",
       "      <th>115</th>\n",
       "      <td>E12000009</td>\n",
       "      <td>11</td>\n",
       "      <td>5085</td>\n",
       "    </tr>\n",
       "    <tr>\n",
       "      <th>116</th>\n",
       "      <td>E12000009</td>\n",
       "      <td>12</td>\n",
       "      <td>1977</td>\n",
       "    </tr>\n",
       "    <tr>\n",
       "      <th>117</th>\n",
       "      <td>W92000004</td>\n",
       "      <td>-9</td>\n",
       "      <td>7937</td>\n",
       "    </tr>\n",
       "    <tr>\n",
       "      <th>118</th>\n",
       "      <td>W92000004</td>\n",
       "      <td>1</td>\n",
       "      <td>403</td>\n",
       "    </tr>\n",
       "    <tr>\n",
       "      <th>119</th>\n",
       "      <td>W92000004</td>\n",
       "      <td>2</td>\n",
       "      <td>3504</td>\n",
       "    </tr>\n",
       "    <tr>\n",
       "      <th>120</th>\n",
       "      <td>W92000004</td>\n",
       "      <td>3</td>\n",
       "      <td>1731</td>\n",
       "    </tr>\n",
       "    <tr>\n",
       "      <th>121</th>\n",
       "      <td>W92000004</td>\n",
       "      <td>4</td>\n",
       "      <td>3751</td>\n",
       "    </tr>\n",
       "    <tr>\n",
       "      <th>122</th>\n",
       "      <td>W92000004</td>\n",
       "      <td>5</td>\n",
       "      <td>1641</td>\n",
       "    </tr>\n",
       "    <tr>\n",
       "      <th>123</th>\n",
       "      <td>W92000004</td>\n",
       "      <td>6</td>\n",
       "      <td>1500</td>\n",
       "    </tr>\n",
       "    <tr>\n",
       "      <th>124</th>\n",
       "      <td>W92000004</td>\n",
       "      <td>7</td>\n",
       "      <td>594</td>\n",
       "    </tr>\n",
       "    <tr>\n",
       "      <th>125</th>\n",
       "      <td>W92000004</td>\n",
       "      <td>8</td>\n",
       "      <td>2010</td>\n",
       "    </tr>\n",
       "    <tr>\n",
       "      <th>126</th>\n",
       "      <td>W92000004</td>\n",
       "      <td>9</td>\n",
       "      <td>1714</td>\n",
       "    </tr>\n",
       "    <tr>\n",
       "      <th>127</th>\n",
       "      <td>W92000004</td>\n",
       "      <td>10</td>\n",
       "      <td>2313</td>\n",
       "    </tr>\n",
       "    <tr>\n",
       "      <th>128</th>\n",
       "      <td>W92000004</td>\n",
       "      <td>11</td>\n",
       "      <td>2887</td>\n",
       "    </tr>\n",
       "    <tr>\n",
       "      <th>129</th>\n",
       "      <td>W92000004</td>\n",
       "      <td>12</td>\n",
       "      <td>992</td>\n",
       "    </tr>\n",
       "  </tbody>\n",
       "</table>\n",
       "<p>130 rows × 3 columns</p>\n",
       "</div>"
      ],
      "text/plain": [
       "        Region  Industry  Count\n",
       "0    E12000001        -9   6854\n",
       "1    E12000001         1    132\n",
       "2    E12000001         2   2851\n",
       "3    E12000001         3   1574\n",
       "4    E12000001         4   3087\n",
       "5    E12000001         5   1300\n",
       "6    E12000001         6   1438\n",
       "7    E12000001         7    524\n",
       "8    E12000001         8   1883\n",
       "9    E12000001         9   1498\n",
       "10   E12000001        10   1836\n",
       "11   E12000001        11   2524\n",
       "12   E12000001        12    848\n",
       "13   E12000002        -9  18755\n",
       "14   E12000002         1    357\n",
       "15   E12000002         2   7726\n",
       "16   E12000002         3   3778\n",
       "17   E12000002         4   9016\n",
       "18   E12000002         5   3355\n",
       "19   E12000002         6   3981\n",
       "20   E12000002         7   1597\n",
       "21   E12000002         8   5822\n",
       "22   E12000002         9   3096\n",
       "23   E12000002        10   4890\n",
       "24   E12000002        11   6764\n",
       "25   E12000002        12   2299\n",
       "26   E12000003        -9  14089\n",
       "27   E12000003         1    362\n",
       "28   E12000003         2   5956\n",
       "29   E12000003         3   3028\n",
       "..         ...       ...    ...\n",
       "100  E12000008         9   4145\n",
       "101  E12000008        10   6593\n",
       "102  E12000008        11   7344\n",
       "103  E12000008        12   3316\n",
       "104  E12000009        -9  12401\n",
       "105  E12000009         1    697\n",
       "106  E12000009         2   5012\n",
       "107  E12000009         3   3033\n",
       "108  E12000009         4   6899\n",
       "109  E12000009         5   2712\n",
       "110  E12000009         6   2961\n",
       "111  E12000009         7   1510\n",
       "112  E12000009         8   4475\n",
       "113  E12000009         9   2973\n",
       "114  E12000009        10   4039\n",
       "115  E12000009        11   5085\n",
       "116  E12000009        12   1977\n",
       "117  W92000004        -9   7937\n",
       "118  W92000004         1    403\n",
       "119  W92000004         2   3504\n",
       "120  W92000004         3   1731\n",
       "121  W92000004         4   3751\n",
       "122  W92000004         5   1641\n",
       "123  W92000004         6   1500\n",
       "124  W92000004         7    594\n",
       "125  W92000004         8   2010\n",
       "126  W92000004         9   1714\n",
       "127  W92000004        10   2313\n",
       "128  W92000004        11   2887\n",
       "129  W92000004        12    992\n",
       "\n",
       "[130 rows x 3 columns]"
      ]
     },
     "execution_count": 32,
     "metadata": {},
     "output_type": "execute_result"
    }
   ],
   "source": [
    "byRegionAndIndustry = refinedData[['Region', 'Industry']].copy()\n",
    "byRegionAndIndustry = byRegionAndIndustry.groupby(['Region', 'Industry']).size()\n",
    "byRegionAndIndustry.reset_index(name='Count')"
   ]
  },
  {
   "cell_type": "markdown",
   "metadata": {},
   "source": [
    "The second table to produce is the number of records by occupation and social grade."
   ]
  },
  {
   "cell_type": "code",
   "execution_count": 33,
   "metadata": {},
   "outputs": [
    {
     "data": {
      "text/html": [
       "<div>\n",
       "<table border=\"1\" class=\"dataframe\">\n",
       "  <thead>\n",
       "    <tr style=\"text-align: right;\">\n",
       "      <th></th>\n",
       "      <th>Occupation</th>\n",
       "      <th>Approximated Social Grade</th>\n",
       "      <th>Count</th>\n",
       "    </tr>\n",
       "  </thead>\n",
       "  <tbody>\n",
       "    <tr>\n",
       "      <th>0</th>\n",
       "      <td>-9</td>\n",
       "      <td>-9</td>\n",
       "      <td>116915</td>\n",
       "    </tr>\n",
       "    <tr>\n",
       "      <th>1</th>\n",
       "      <td>-9</td>\n",
       "      <td>1</td>\n",
       "      <td>1051</td>\n",
       "    </tr>\n",
       "    <tr>\n",
       "      <th>2</th>\n",
       "      <td>-9</td>\n",
       "      <td>2</td>\n",
       "      <td>17787</td>\n",
       "    </tr>\n",
       "    <tr>\n",
       "      <th>3</th>\n",
       "      <td>-9</td>\n",
       "      <td>3</td>\n",
       "      <td>2062</td>\n",
       "    </tr>\n",
       "    <tr>\n",
       "      <th>4</th>\n",
       "      <td>-9</td>\n",
       "      <td>4</td>\n",
       "      <td>12169</td>\n",
       "    </tr>\n",
       "    <tr>\n",
       "      <th>5</th>\n",
       "      <td>1</td>\n",
       "      <td>-9</td>\n",
       "      <td>492</td>\n",
       "    </tr>\n",
       "    <tr>\n",
       "      <th>6</th>\n",
       "      <td>1</td>\n",
       "      <td>1</td>\n",
       "      <td>19190</td>\n",
       "    </tr>\n",
       "    <tr>\n",
       "      <th>7</th>\n",
       "      <td>1</td>\n",
       "      <td>2</td>\n",
       "      <td>18555</td>\n",
       "    </tr>\n",
       "    <tr>\n",
       "      <th>8</th>\n",
       "      <td>1</td>\n",
       "      <td>3</td>\n",
       "      <td>584</td>\n",
       "    </tr>\n",
       "    <tr>\n",
       "      <th>9</th>\n",
       "      <td>1</td>\n",
       "      <td>4</td>\n",
       "      <td>967</td>\n",
       "    </tr>\n",
       "    <tr>\n",
       "      <th>10</th>\n",
       "      <td>2</td>\n",
       "      <td>-9</td>\n",
       "      <td>884</td>\n",
       "    </tr>\n",
       "    <tr>\n",
       "      <th>11</th>\n",
       "      <td>2</td>\n",
       "      <td>1</td>\n",
       "      <td>48104</td>\n",
       "    </tr>\n",
       "    <tr>\n",
       "      <th>12</th>\n",
       "      <td>2</td>\n",
       "      <td>2</td>\n",
       "      <td>13223</td>\n",
       "    </tr>\n",
       "    <tr>\n",
       "      <th>13</th>\n",
       "      <td>2</td>\n",
       "      <td>3</td>\n",
       "      <td>891</td>\n",
       "    </tr>\n",
       "    <tr>\n",
       "      <th>14</th>\n",
       "      <td>2</td>\n",
       "      <td>4</td>\n",
       "      <td>1009</td>\n",
       "    </tr>\n",
       "    <tr>\n",
       "      <th>15</th>\n",
       "      <td>3</td>\n",
       "      <td>-9</td>\n",
       "      <td>819</td>\n",
       "    </tr>\n",
       "    <tr>\n",
       "      <th>16</th>\n",
       "      <td>3</td>\n",
       "      <td>1</td>\n",
       "      <td>7050</td>\n",
       "    </tr>\n",
       "    <tr>\n",
       "      <th>17</th>\n",
       "      <td>3</td>\n",
       "      <td>2</td>\n",
       "      <td>35435</td>\n",
       "    </tr>\n",
       "    <tr>\n",
       "      <th>18</th>\n",
       "      <td>3</td>\n",
       "      <td>3</td>\n",
       "      <td>647</td>\n",
       "    </tr>\n",
       "    <tr>\n",
       "      <th>19</th>\n",
       "      <td>3</td>\n",
       "      <td>4</td>\n",
       "      <td>986</td>\n",
       "    </tr>\n",
       "    <tr>\n",
       "      <th>20</th>\n",
       "      <td>4</td>\n",
       "      <td>-9</td>\n",
       "      <td>727</td>\n",
       "    </tr>\n",
       "    <tr>\n",
       "      <th>21</th>\n",
       "      <td>4</td>\n",
       "      <td>1</td>\n",
       "      <td>3000</td>\n",
       "    </tr>\n",
       "    <tr>\n",
       "      <th>22</th>\n",
       "      <td>4</td>\n",
       "      <td>2</td>\n",
       "      <td>44922</td>\n",
       "    </tr>\n",
       "    <tr>\n",
       "      <th>23</th>\n",
       "      <td>4</td>\n",
       "      <td>3</td>\n",
       "      <td>2353</td>\n",
       "    </tr>\n",
       "    <tr>\n",
       "      <th>24</th>\n",
       "      <td>4</td>\n",
       "      <td>4</td>\n",
       "      <td>2252</td>\n",
       "    </tr>\n",
       "    <tr>\n",
       "      <th>25</th>\n",
       "      <td>5</td>\n",
       "      <td>-9</td>\n",
       "      <td>678</td>\n",
       "    </tr>\n",
       "    <tr>\n",
       "      <th>26</th>\n",
       "      <td>5</td>\n",
       "      <td>1</td>\n",
       "      <td>585</td>\n",
       "    </tr>\n",
       "    <tr>\n",
       "      <th>27</th>\n",
       "      <td>5</td>\n",
       "      <td>2</td>\n",
       "      <td>2464</td>\n",
       "    </tr>\n",
       "    <tr>\n",
       "      <th>28</th>\n",
       "      <td>5</td>\n",
       "      <td>3</td>\n",
       "      <td>37190</td>\n",
       "    </tr>\n",
       "    <tr>\n",
       "      <th>29</th>\n",
       "      <td>5</td>\n",
       "      <td>4</td>\n",
       "      <td>7629</td>\n",
       "    </tr>\n",
       "    <tr>\n",
       "      <th>30</th>\n",
       "      <td>6</td>\n",
       "      <td>-9</td>\n",
       "      <td>478</td>\n",
       "    </tr>\n",
       "    <tr>\n",
       "      <th>31</th>\n",
       "      <td>6</td>\n",
       "      <td>1</td>\n",
       "      <td>1061</td>\n",
       "    </tr>\n",
       "    <tr>\n",
       "      <th>32</th>\n",
       "      <td>6</td>\n",
       "      <td>2</td>\n",
       "      <td>6343</td>\n",
       "    </tr>\n",
       "    <tr>\n",
       "      <th>33</th>\n",
       "      <td>6</td>\n",
       "      <td>3</td>\n",
       "      <td>15555</td>\n",
       "    </tr>\n",
       "    <tr>\n",
       "      <th>34</th>\n",
       "      <td>6</td>\n",
       "      <td>4</td>\n",
       "      <td>13860</td>\n",
       "    </tr>\n",
       "    <tr>\n",
       "      <th>35</th>\n",
       "      <td>7</td>\n",
       "      <td>-9</td>\n",
       "      <td>1031</td>\n",
       "    </tr>\n",
       "    <tr>\n",
       "      <th>36</th>\n",
       "      <td>7</td>\n",
       "      <td>1</td>\n",
       "      <td>964</td>\n",
       "    </tr>\n",
       "    <tr>\n",
       "      <th>37</th>\n",
       "      <td>7</td>\n",
       "      <td>2</td>\n",
       "      <td>12184</td>\n",
       "    </tr>\n",
       "    <tr>\n",
       "      <th>38</th>\n",
       "      <td>7</td>\n",
       "      <td>3</td>\n",
       "      <td>2997</td>\n",
       "    </tr>\n",
       "    <tr>\n",
       "      <th>39</th>\n",
       "      <td>7</td>\n",
       "      <td>4</td>\n",
       "      <td>21347</td>\n",
       "    </tr>\n",
       "    <tr>\n",
       "      <th>40</th>\n",
       "      <td>8</td>\n",
       "      <td>-9</td>\n",
       "      <td>441</td>\n",
       "    </tr>\n",
       "    <tr>\n",
       "      <th>41</th>\n",
       "      <td>8</td>\n",
       "      <td>1</td>\n",
       "      <td>413</td>\n",
       "    </tr>\n",
       "    <tr>\n",
       "      <th>42</th>\n",
       "      <td>8</td>\n",
       "      <td>2</td>\n",
       "      <td>1719</td>\n",
       "    </tr>\n",
       "    <tr>\n",
       "      <th>43</th>\n",
       "      <td>8</td>\n",
       "      <td>3</td>\n",
       "      <td>11157</td>\n",
       "    </tr>\n",
       "    <tr>\n",
       "      <th>44</th>\n",
       "      <td>8</td>\n",
       "      <td>4</td>\n",
       "      <td>21088</td>\n",
       "    </tr>\n",
       "    <tr>\n",
       "      <th>45</th>\n",
       "      <td>9</td>\n",
       "      <td>-9</td>\n",
       "      <td>1638</td>\n",
       "    </tr>\n",
       "    <tr>\n",
       "      <th>46</th>\n",
       "      <td>9</td>\n",
       "      <td>1</td>\n",
       "      <td>902</td>\n",
       "    </tr>\n",
       "    <tr>\n",
       "      <th>47</th>\n",
       "      <td>9</td>\n",
       "      <td>2</td>\n",
       "      <td>7010</td>\n",
       "    </tr>\n",
       "    <tr>\n",
       "      <th>48</th>\n",
       "      <td>9</td>\n",
       "      <td>3</td>\n",
       "      <td>6500</td>\n",
       "    </tr>\n",
       "    <tr>\n",
       "      <th>49</th>\n",
       "      <td>9</td>\n",
       "      <td>4</td>\n",
       "      <td>42433</td>\n",
       "    </tr>\n",
       "  </tbody>\n",
       "</table>\n",
       "</div>"
      ],
      "text/plain": [
       "    Occupation  Approximated Social Grade   Count\n",
       "0           -9                         -9  116915\n",
       "1           -9                          1    1051\n",
       "2           -9                          2   17787\n",
       "3           -9                          3    2062\n",
       "4           -9                          4   12169\n",
       "5            1                         -9     492\n",
       "6            1                          1   19190\n",
       "7            1                          2   18555\n",
       "8            1                          3     584\n",
       "9            1                          4     967\n",
       "10           2                         -9     884\n",
       "11           2                          1   48104\n",
       "12           2                          2   13223\n",
       "13           2                          3     891\n",
       "14           2                          4    1009\n",
       "15           3                         -9     819\n",
       "16           3                          1    7050\n",
       "17           3                          2   35435\n",
       "18           3                          3     647\n",
       "19           3                          4     986\n",
       "20           4                         -9     727\n",
       "21           4                          1    3000\n",
       "22           4                          2   44922\n",
       "23           4                          3    2353\n",
       "24           4                          4    2252\n",
       "25           5                         -9     678\n",
       "26           5                          1     585\n",
       "27           5                          2    2464\n",
       "28           5                          3   37190\n",
       "29           5                          4    7629\n",
       "30           6                         -9     478\n",
       "31           6                          1    1061\n",
       "32           6                          2    6343\n",
       "33           6                          3   15555\n",
       "34           6                          4   13860\n",
       "35           7                         -9    1031\n",
       "36           7                          1     964\n",
       "37           7                          2   12184\n",
       "38           7                          3    2997\n",
       "39           7                          4   21347\n",
       "40           8                         -9     441\n",
       "41           8                          1     413\n",
       "42           8                          2    1719\n",
       "43           8                          3   11157\n",
       "44           8                          4   21088\n",
       "45           9                         -9    1638\n",
       "46           9                          1     902\n",
       "47           9                          2    7010\n",
       "48           9                          3    6500\n",
       "49           9                          4   42433"
      ]
     },
     "execution_count": 33,
     "metadata": {},
     "output_type": "execute_result"
    }
   ],
   "source": [
    "byOccupationAndSocialGrade = refinedData[['Occupation', 'Approximated Social Grade']].copy()\n",
    "byOccupationAndSocialGrade = byOccupationAndSocialGrade.groupby(['Occupation', 'Approximated Social Grade']).size()\n",
    "byOccupationAndSocialGrade.reset_index(name='Count')"
   ]
  },
  {
   "cell_type": "markdown",
   "metadata": {},
   "source": [
    "The second easy additional requirement is to learn how to use pandas to perform various queries. The first being to find the number of economically active people by region. As shown by the table below, the number of economically active poeple per region are specified."
   ]
  },
  {
   "cell_type": "code",
   "execution_count": 34,
   "metadata": {},
   "outputs": [
    {
     "data": {
      "text/html": [
       "<div>\n",
       "<table border=\"1\" class=\"dataframe\">\n",
       "  <thead>\n",
       "    <tr style=\"text-align: right;\">\n",
       "      <th></th>\n",
       "      <th>Region</th>\n",
       "      <th>Count</th>\n",
       "    </tr>\n",
       "  </thead>\n",
       "  <tbody>\n",
       "    <tr>\n",
       "      <th>0</th>\n",
       "      <td>E12000001</td>\n",
       "      <td>12897</td>\n",
       "    </tr>\n",
       "    <tr>\n",
       "      <th>1</th>\n",
       "      <td>E12000002</td>\n",
       "      <td>35204</td>\n",
       "    </tr>\n",
       "    <tr>\n",
       "      <th>2</th>\n",
       "      <td>E12000003</td>\n",
       "      <td>26843</td>\n",
       "    </tr>\n",
       "    <tr>\n",
       "      <th>3</th>\n",
       "      <td>E12000004</td>\n",
       "      <td>23106</td>\n",
       "    </tr>\n",
       "    <tr>\n",
       "      <th>4</th>\n",
       "      <td>E12000005</td>\n",
       "      <td>27930</td>\n",
       "    </tr>\n",
       "    <tr>\n",
       "      <th>5</th>\n",
       "      <td>E12000006</td>\n",
       "      <td>30568</td>\n",
       "    </tr>\n",
       "    <tr>\n",
       "      <th>6</th>\n",
       "      <td>E12000007</td>\n",
       "      <td>44454</td>\n",
       "    </tr>\n",
       "    <tr>\n",
       "      <th>7</th>\n",
       "      <td>E12000008</td>\n",
       "      <td>45551</td>\n",
       "    </tr>\n",
       "    <tr>\n",
       "      <th>8</th>\n",
       "      <td>E12000009</td>\n",
       "      <td>27453</td>\n",
       "    </tr>\n",
       "    <tr>\n",
       "      <th>9</th>\n",
       "      <td>W92000004</td>\n",
       "      <td>14877</td>\n",
       "    </tr>\n",
       "  </tbody>\n",
       "</table>\n",
       "</div>"
      ],
      "text/plain": [
       "      Region  Count\n",
       "0  E12000001  12897\n",
       "1  E12000002  35204\n",
       "2  E12000003  26843\n",
       "3  E12000004  23106\n",
       "4  E12000005  27930\n",
       "5  E12000006  30568\n",
       "6  E12000007  44454\n",
       "7  E12000008  45551\n",
       "8  E12000009  27453\n",
       "9  W92000004  14877"
      ]
     },
     "execution_count": 34,
     "metadata": {},
     "output_type": "execute_result"
    }
   ],
   "source": [
    "data = refinedData[(refinedData['Economic Activity'] < 5) & (refinedData['Economic Activity']>-1)]\n",
    "\n",
    "byRegionAndEconomicActivity = data[['Region', 'Economic Activity']].copy()\n",
    "byRegionAndEconomicActivity = byRegionAndEconomicActivity.groupby(['Region']).size()\n",
    "byRegionAndEconomicActivity.reset_index(name='Count')"
   ]
  },
  {
   "cell_type": "markdown",
   "metadata": {},
   "source": [
    "The second to find the number of exonomically active people by age."
   ]
  },
  {
   "cell_type": "code",
   "execution_count": 35,
   "metadata": {},
   "outputs": [
    {
     "data": {
      "text/html": [
       "<div>\n",
       "<table border=\"1\" class=\"dataframe\">\n",
       "  <thead>\n",
       "    <tr style=\"text-align: right;\">\n",
       "      <th></th>\n",
       "      <th>Age</th>\n",
       "      <th>Count</th>\n",
       "    </tr>\n",
       "  </thead>\n",
       "  <tbody>\n",
       "    <tr>\n",
       "      <th>0</th>\n",
       "      <td>2</td>\n",
       "      <td>41663</td>\n",
       "    </tr>\n",
       "    <tr>\n",
       "      <th>1</th>\n",
       "      <td>3</td>\n",
       "      <td>64326</td>\n",
       "    </tr>\n",
       "    <tr>\n",
       "      <th>2</th>\n",
       "      <td>4</td>\n",
       "      <td>67050</td>\n",
       "    </tr>\n",
       "    <tr>\n",
       "      <th>3</th>\n",
       "      <td>5</td>\n",
       "      <td>65736</td>\n",
       "    </tr>\n",
       "    <tr>\n",
       "      <th>4</th>\n",
       "      <td>6</td>\n",
       "      <td>40584</td>\n",
       "    </tr>\n",
       "    <tr>\n",
       "      <th>5</th>\n",
       "      <td>7</td>\n",
       "      <td>8022</td>\n",
       "    </tr>\n",
       "    <tr>\n",
       "      <th>6</th>\n",
       "      <td>8</td>\n",
       "      <td>1502</td>\n",
       "    </tr>\n",
       "  </tbody>\n",
       "</table>\n",
       "</div>"
      ],
      "text/plain": [
       "   Age  Count\n",
       "0    2  41663\n",
       "1    3  64326\n",
       "2    4  67050\n",
       "3    5  65736\n",
       "4    6  40584\n",
       "5    7   8022\n",
       "6    8   1502"
      ]
     },
     "execution_count": 35,
     "metadata": {},
     "output_type": "execute_result"
    }
   ],
   "source": [
    "data = refinedData[(refinedData['Economic Activity'] < 5) & (refinedData['Economic Activity']>-1)]\n",
    "\n",
    "byRegionAndEconomicActivity = data[['Age', 'Economic Activity']].copy()\n",
    "byRegionAndEconomicActivity = byRegionAndEconomicActivity.groupby(['Age']).size()\n",
    "byRegionAndEconomicActivity.reset_index(name='Count')"
   ]
  },
  {
   "cell_type": "markdown",
   "metadata": {},
   "source": [
    "The thrid to find wherther or not there are any discrepancies between the student status given by the question \"Student\" and answers on the question \"Economic activity\"."
   ]
  },
  {
   "cell_type": "code",
   "execution_count": 50,
   "metadata": {},
   "outputs": [
    {
     "name": "stdout",
     "output_type": "stream",
     "text": [
      "The number of people who said 'no' to being a student, but answered that they were one of the student options \n",
      "in the economically active question:\n",
      "\t 918\n",
      "The number of people who said 'yes' to being a student, but answered that they weren't one of the student options \n",
      "in the economically active question:\n",
      "\t 0\n"
     ]
    }
   ],
   "source": [
    "data = refinedData[((refinedData['Student'] == 2)) & (\n",
    "                   ((refinedData['Economic Activity'] == 4 ) |\n",
    "                   (refinedData['Economic Activity'] == 6 )))]\n",
    "print(\"The number of people who said 'no' to being a student, but answered that they were one of the student options \\nin the economically active question:\")\n",
    "print(\"\\t\",len(data))\n",
    "\n",
    "\n",
    "data = refinedData[((refinedData['Student'] == 1) & (\n",
    "                   ((refinedData['Economic Activity'] != 4 ) &\n",
    "                   (refinedData['Economic Activity'] != 6 ) &(refinedData['Economic Activity'] != -9))))]\n",
    "print(\"The number of people who said 'yes' to being a student, but answered that they weren't one of the student options \\nin the economically active question:\")\n",
    "print(\"\\t\",len(data))"
   ]
  },
  {
   "cell_type": "markdown",
   "metadata": {},
   "source": [
    "Finally, the forth is to find the number of working hours per week for students."
   ]
  },
  {
   "cell_type": "code",
   "execution_count": 51,
   "metadata": {},
   "outputs": [
    {
     "data": {
      "text/html": [
       "<div>\n",
       "<table border=\"1\" class=\"dataframe\">\n",
       "  <thead>\n",
       "    <tr style=\"text-align: right;\">\n",
       "      <th></th>\n",
       "      <th>Hours worked per week</th>\n",
       "      <th>Count</th>\n",
       "    </tr>\n",
       "  </thead>\n",
       "  <tbody>\n",
       "    <tr>\n",
       "      <th>0</th>\n",
       "      <td>-9</td>\n",
       "      <td>28110</td>\n",
       "    </tr>\n",
       "    <tr>\n",
       "      <th>1</th>\n",
       "      <td>1</td>\n",
       "      <td>6465</td>\n",
       "    </tr>\n",
       "    <tr>\n",
       "      <th>2</th>\n",
       "      <td>2</td>\n",
       "      <td>2334</td>\n",
       "    </tr>\n",
       "    <tr>\n",
       "      <th>3</th>\n",
       "      <td>3</td>\n",
       "      <td>1683</td>\n",
       "    </tr>\n",
       "    <tr>\n",
       "      <th>4</th>\n",
       "      <td>4</td>\n",
       "      <td>281</td>\n",
       "    </tr>\n",
       "  </tbody>\n",
       "</table>\n",
       "</div>"
      ],
      "text/plain": [
       "   Hours worked per week  Count\n",
       "0                     -9  28110\n",
       "1                      1   6465\n",
       "2                      2   2334\n",
       "3                      3   1683\n",
       "4                      4    281"
      ]
     },
     "execution_count": 51,
     "metadata": {},
     "output_type": "execute_result"
    }
   ],
   "source": [
    "data = refinedData[(refinedData['Economic Activity'] == 4) | (refinedData['Economic Activity'] == 6)]\n",
    "\n",
    "byRegionAndEconomicActivity = data[['Hours worked per week', 'Economic Activity']].copy()\n",
    "byRegionAndEconomicActivity = byRegionAndEconomicActivity.groupby(['Hours worked per week']).size()\n",
    "byRegionAndEconomicActivity.reset_index(name='Count')"
   ]
  },
  {
   "cell_type": "markdown",
   "metadata": {},
   "source": [
    "The first medium additional requirement is to create 3D plots for the data from the tables made in the first east additional requirement.\n",
    "The first being the 3D plot for the number of records by region and industry."
   ]
  },
  {
   "cell_type": "code",
   "execution_count": 52,
   "metadata": {},
   "outputs": [
    {
     "data": {
      "image/png": "[encoded data removed]",
      "text/plain": [
       "<matplotlib.figure.Figure at 0x7f7bc6b19d68>"
      ]
     },
     "metadata": {},
     "output_type": "display_data"
    }
   ],
   "source": [
    "regionarray = [\"E12000001\",\"E12000002\",\"E12000003\",\"E12000004\",\"E12000005\",\"E12000006\",\"E12000007\",\"E12000008\",\"E12000009\",\"W92000004\"]\n",
    "industryarray = [-9,1,2,3,4,5,6,7,8,9,10,11,12]\n",
    "\n",
    "fig = plt.figure()\n",
    "ax = fig.add_subplot(111, projection = '3d')\n",
    "ax = Axes3D(fig)\n",
    "ax.set_xlabel(\"Industry\")\n",
    "ax.set_ylabel(\"Region\")\n",
    "ax.set_zlabel(\"Count\")\n",
    "\n",
    "byRegionAndIndustry = refinedData[['Region', 'Industry']].copy()\n",
    "byRegionAndIndustry = byRegionAndIndustry.groupby(['Region', 'Industry'])\n",
    "\n",
    "z = byRegionAndIndustry.size().tolist()\n",
    "axes = byRegionAndIndustry.groups.keys()\n",
    "axes = sorted(axes, key=itemgetter(1))\n",
    "axes = sorted(axes, key=itemgetter(0))\n",
    "    \n",
    "x = list(range(0, len(regionarray)))\n",
    "y = list(range(0, len(industryarray)))\n",
    "ax.set_yticks(x)\n",
    "ax.set_xticks(y)\n",
    "\n",
    "X, Y = np.meshgrid(y,x)\n",
    "zs = np.array(z)\n",
    "Z = zs.reshape(Y.shape)\n",
    "\n",
    "values = np.linspace(0.2,1.,X.ravel().shape[0])\n",
    "colours = plt.cm.Spectral(values)\n",
    "\n",
    "ax.bar3d(X.ravel(), Y.ravel(), Z.ravel()*0, dx=0.5, dy=0.5, dz=Z.ravel(), color=colours)\n",
    "\n",
    "ax.set_xticklabels(np.array(industryarray))\n",
    "ax.set_yticklabels(np.array(regionarray))\n",
    "\n",
    "plt.show()\n"
   ]
  },
  {
   "cell_type": "markdown",
   "metadata": {},
   "source": [
    "The second being the 3D plot for the number of records by occupation and social grade."
   ]
  },
  {
   "cell_type": "code",
   "execution_count": 53,
   "metadata": {},
   "outputs": [
    {
     "data": {
      "image/png": "[encoded data removed]",
      "text/plain": [
       "<matplotlib.figure.Figure at 0x7f7bc5d73550>"
      ]
     },
     "metadata": {},
     "output_type": "display_data"
    }
   ],
   "source": [
    "occupationarray = [-9,1,2,3,4,5,6,7,8,9]\n",
    "socialarray = [-9,1,2,3,4]\n",
    "\n",
    "fig = plt.figure()\n",
    "ax = fig.add_subplot(111, projection = '3d')\n",
    "ax = Axes3D(fig)\n",
    "ax.set_xlabel(\"Approximated Social Grade\")\n",
    "ax.set_ylabel(\"Occupation\")\n",
    "ax.set_zlabel(\"Count\")\n",
    "\n",
    "byOccupationAndSocialGrade = refinedData[['Occupation', 'Approximated Social Grade']].copy()\n",
    "byOccupationAndSocialGrade = byOccupationAndSocialGrade.groupby(['Occupation', 'Approximated Social Grade'])\n",
    "\n",
    "z = byOccupationAndSocialGrade.size().tolist()\n",
    "axes = byOccupationAndSocialGrade.groups.keys()\n",
    "\n",
    "axes = sorted(axes, key=itemgetter(1))\n",
    "axes = sorted(axes, key=itemgetter(0))\n",
    "        \n",
    "x = list(range(0, len(occupationarray)))\n",
    "y = list(range(0, len(socialarray)))\n",
    "ax.set_yticks(x)\n",
    "ax.set_xticks(y)\n",
    "\n",
    "X, Y = np.meshgrid(y,x)\n",
    "zs = np.array(z)\n",
    "Z = zs.reshape(X.shape)\n",
    "\n",
    "values = np.linspace(0.2,1.,X.ravel().shape[0])\n",
    "colours = plt.cm.Spectral(values)\n",
    "\n",
    "ax.bar3d(X.ravel(), Y.ravel(), Z.ravel()*0, dx=0.5, dy=0.5, dz=Z.ravel(), color=colours)\n",
    "\n",
    "ax.set_xticklabels(np.array(socialarray))\n",
    "ax.set_yticklabels(np.array(occupationarray))\n",
    "\n",
    "plt.show()"
   ]
  },
  {
   "cell_type": "code",
   "execution_count": 54,
   "metadata": {},
   "outputs": [
    {
     "data": {
      "application/vnd.jupyter.widget-view+json": {
       "model_id": "ebbb6b1688214ade82ccf3bf64e4d728"
      }
     },
     "metadata": {},
     "output_type": "display_data"
    },
    {
     "data": {
      "image/png": "[encoded data removed]",
      "text/plain": [
       "<matplotlib.figure.Figure at 0x7f7bc5d78630>"
      ]
     },
     "metadata": {},
     "output_type": "display_data"
    }
   ],
   "source": [
    "#regionData = refinedData['Region']\n",
    "#ageData = refinedData[\"Age\"]\n",
    "#refinedData['Region'].unique()\n",
    "#refinedData['Age'].unique()\n",
    "\n",
    "\n",
    "#age = widgets.FloatSlider(\n",
    "#    value=1,\n",
    "#    min=1,\n",
    "#    max=8,\n",
    "#    step=1,\n",
    "#    description='Age:',\n",
    "#    continuous_update = False\n",
    "#)\n",
    "\n",
    "#container = widgets.HBox(population=[age] )\n",
    "\n",
    "#region = widgets.Select(\n",
    "#    description = 'Region:',\n",
    "#    options=list(refinedData['Region'].unique()),\n",
    "#)\n",
    "\n",
    "#adjustables = widgets.HBox([region, age])\n",
    "#display(adjustables)\n",
    "\n",
    "#print(region.value)\n",
    "\n",
    "\n",
    "x = np.linspace(0, 2 * np.pi)\n",
    "\n",
    "def update(Age = range(1,8)):\n",
    "    fig = plt.figure()\n",
    "    ax = fig.add_subplot(1, 1, 1)\n",
    "    \n",
    "    data = refinedData[(((refinedData['Age'] == Age )))]\n",
    "    data = data.groupby(['Region', 'Age'])\n",
    "    count = data.size().tolist()\n",
    "    ax.set_xticklabels(np.array(regionarray))\n",
    "    ax.plot(count)\n",
    "    fig.canvas.draw()\n",
    "\n",
    "interact(update);\n"
   ]
  },
  {
   "cell_type": "code",
   "execution_count": null,
   "metadata": {
    "collapsed": true
   },
   "outputs": [],
   "source": []
  }
 ],
 "metadata": {
  "kernelspec": {
   "display_name": "Python 3",
   "language": "python",
   "name": "python3"
  },
  "language_info": {
   "codemirror_mode": {
    "name": "ipython",
    "version": 3
   },
   "file_extension": ".py",
   "mimetype": "text/x-python",
   "name": "python",
   "nbconvert_exporter": "python",
   "pygments_lexer": "ipython3",
   "version": "3.5.3"
  }
 },
 "nbformat": 4,
 "nbformat_minor": 1
}
