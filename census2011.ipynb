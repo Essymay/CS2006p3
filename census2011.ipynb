{
 "cells": [
  {
   "cell_type": "markdown",
   "metadata": {},
   "source": [
    "#CS2006 Python Practical 2"
   ]
  },
  {
   "cell_type": "markdown",
   "metadata": {},
   "source": [
    "The first requirement for the practical is to refine the dataset. "
   ]
  },
  {
   "cell_type": "code",
   "execution_count": 1,
   "metadata": {
    "collapsed": false,
    "deletable": true,
    "editable": true
   },
   "outputs": [],
   "source": [
    "import pandas as pd\n",
    "import numpy as np"
   ]
  },
  {
   "cell_type": "markdown",
   "metadata": {},
   "source": [
    "So first to make sure the data is initially read in correctly, the columns which should be numbers (and not containing any strings) are selected and forced into numeric columns. This means that if any of the columns had invalid data, in the format of string for example, then that cell gets changed to 'NaN'."
   ]
  },
  {
   "cell_type": "code",
   "execution_count": 2,
   "metadata": {
    "collapsed": false,
    "deletable": true,
    "editable": true
   },
   "outputs": [],
   "source": [
    "low_memory = False\n",
    "df=pd.read_csv(\"census2011.csv\")\n",
    "df[['Person ID','Family Composition', 'Population Base', 'Sex', 'Age',\n",
    "    'Marital Status','Student', 'Country of Birth', 'Health', 'Ethnic Group',\n",
    "    'Religion', 'Economic Activity', 'Occupation', 'Industry', 'Hours worked per week', 'Approximated Social Grade']]= df[['Person ID','Family Composition', 'Population Base', 'Sex', 'Age',\n",
    "    'Marital Status','Student', 'Country of Birth', 'Health', 'Ethnic Group',\n",
    "    'Religion', 'Economic Activity', 'Occupation', 'Industry', 'Hours worked per week', 'Approximated Social Grade']].apply(pd.to_numeric, errors='coerce')"
   ]
  },
  {
   "cell_type": "code",
   "execution_count": 3,
   "metadata": {
    "collapsed": false,
    "deletable": true,
    "editable": true,
    "scrolled": false
   },
   "outputs": [],
   "source": [
    "#df"
   ]
  },
  {
   "cell_type": "code",
   "execution_count": 4,
   "metadata": {
    "collapsed": false,
    "deletable": true,
    "editable": true
   },
   "outputs": [],
   "source": [
    "#len(df)"
   ]
  },
  {
   "cell_type": "markdown",
   "metadata": {},
   "source": [
    "As shown below, the data types of the data set are numeric where expected."
   ]
  },
  {
   "cell_type": "code",
   "execution_count": 5,
   "metadata": {
    "collapsed": false,
    "deletable": true,
    "editable": true
   },
   "outputs": [
    {
     "data": {
      "text/plain": [
       "Person ID                     int64\n",
       "Region                       object\n",
       "Residence Type               object\n",
       "Family Composition            int64\n",
       "Population Base               int64\n",
       "Sex                           int64\n",
       "Age                           int64\n",
       "Marital Status                int64\n",
       "Student                       int64\n",
       "Country of Birth              int64\n",
       "Health                        int64\n",
       "Ethnic Group                  int64\n",
       "Religion                      int64\n",
       "Economic Activity             int64\n",
       "Occupation                    int64\n",
       "Industry                      int64\n",
       "Hours worked per week         int64\n",
       "Approximated Social Grade     int64\n",
       "dtype: object"
      ]
     },
     "execution_count": 5,
     "metadata": {},
     "output_type": "execute_result"
    }
   ],
   "source": [
    "df.dtypes"
   ]
  },
  {
   "cell_type": "markdown",
   "metadata": {},
   "source": [
    "To actually refine the data, any rows containing a cell which is 'NaN' gets dropped, and any columns which are of type 'float' gets formatted."
   ]
  },
  {
   "cell_type": "code",
   "execution_count": 6,
   "metadata": {
    "collapsed": false
   },
   "outputs": [],
   "source": [
    "refinedData = df.copy()\n",
    "refinedData = refinedData.dropna()\n",
    "pd.options.display.float_format = '{:,.0f}'.format\n",
    "#refinedData"
   ]
  },
  {
   "cell_type": "markdown",
   "metadata": {},
   "source": [
    "More refining includes dropping any rows which are duplicates of another."
   ]
  },
  {
   "cell_type": "code",
   "execution_count": 7,
   "metadata": {
    "collapsed": false
   },
   "outputs": [],
   "source": [
    "refinedData = refinedData.drop_duplicates()"
   ]
  },
  {
   "cell_type": "markdown",
   "metadata": {},
   "source": [
    "The final refining that takes place is to make sure all the values which are in the data set are valid values for it's column, meaning that all of the values are one of optiosn specified in the file 'MicroDataTeachingVariables.pdf'."
   ]
  },
  {
   "cell_type": "code",
   "execution_count": 8,
   "metadata": {
    "collapsed": false,
    "scrolled": true
   },
   "outputs": [],
   "source": [
    "regions = [\"E12000001\",\"E12000002\",\"E12000003\",\"E12000004\",\"E12000005\",\"E12000006\",\"E12000007\",\"E12000008\",\"E12000009\",\"W92000004\"]\n",
    "residenceType = [\"C\",\"H\"]\n",
    "famComp = [1,2,3,4,5,6,-9]\n",
    "popBase = [1,2,3]\n",
    "sex = [1,2]\n",
    "age = [1,2,3,4,5,6,7,8]\n",
    "maritalStatus = [1,2,3,4,5]\n",
    "student = [1,2]\n",
    "countryOfBirth = [1,2,-9]\n",
    "health = [1,2,3,4,5,-9]\n",
    "ethnicGroup = [1,2,3,4,5,-9]\n",
    "religion = [1,2,3,4,5,6,7,8,9,-9]\n",
    "econActivity = [1,2,3,4,5,6,7,8,9,-9]\n",
    "occupation = [1,2,3,4,5,6,7,8,9,-9]\n",
    "industry = [1,2,3,4,5,6,7,8,9,10,11,12,-9]\n",
    "hoursWorkPerWeek = [1,2,3,4,-9]\n",
    "approxSocialGrade = [1,2,3,4,-9]\n",
    "\n",
    "rowsToRemove = []\n",
    "\n",
    "rCounter = 0\n",
    "regs = refinedData['Region']\n",
    "for reg in regs:\n",
    "    flag = 1\n",
    "    for region in regions:\n",
    "                if region == reg:\n",
    "                    flag = 0\n",
    "    if flag == 1:\n",
    "        rowsToRemove.append(rCounter)\n",
    "    rCounter = rCounter + 1\n",
    "\n",
    "rCounter = 0\n",
    "res = refinedData['Residence Type']  \n",
    "for r in res:\n",
    "    flag = 1\n",
    "    for resType in residenceType:\n",
    "                if resType == r:\n",
    "                    flag = 0\n",
    "    if flag == 1:\n",
    "        rowsToRemove.append(rCounter)\n",
    "    rCounter = rCounter + 1\n",
    "    \n",
    "rCounter = 0\n",
    "family = refinedData['Family Composition']  \n",
    "for comp in family:\n",
    "    flag = 1\n",
    "    for f in famComp:\n",
    "                if f == comp:\n",
    "                    flag = 0\n",
    "    if flag == 1:\n",
    "        rowsToRemove.append(rCounter)\n",
    "    rCounter = rCounter + 1\n",
    "\n",
    "rCounter = 0\n",
    "population = refinedData['Population Base']  \n",
    "for base in population:\n",
    "    flag = 1\n",
    "    for pop in popBase:\n",
    "                if pop == base:\n",
    "                    flag = 0\n",
    "    if flag == 1:\n",
    "        rowsToRemove.append(rCounter)\n",
    "    rCounter = rCounter + 1\n",
    "    \n",
    "rCounter = 0\n",
    "gender = refinedData['Sex']  \n",
    "for g in gender:\n",
    "    flag = 1\n",
    "    for gend in sex:\n",
    "                if gend == g:\n",
    "                    flag = 0\n",
    "    if flag == 1:\n",
    "        rowsToRemove.append(rCounter)\n",
    "    rCounter = rCounter + 1\n",
    "    \n",
    "rCounter = 0\n",
    "ageRange = refinedData['Age']  \n",
    "for rangee in ageRange:\n",
    "    flag = 1\n",
    "    for agee in age:\n",
    "                if agee == rangee:\n",
    "                    flag = 0\n",
    "    if flag == 1:\n",
    "        rowsToRemove.append(rCounter)\n",
    "    rCounter = rCounter + 1\n",
    "    \n",
    "rCounter = 0\n",
    "mStatus = refinedData['Marital Status']  \n",
    "for m in mStatus:\n",
    "    flag = 1\n",
    "    for married in maritalStatus:\n",
    "                if married == m:\n",
    "                    flag = 0\n",
    "    if flag == 1:\n",
    "        rowsToRemove.append(rCounter)\n",
    "    rCounter = rCounter + 1\n",
    "    \n",
    "rCounter = 0\n",
    "studs = refinedData['Student']  \n",
    "for stud in studs:\n",
    "    flag = 1\n",
    "    for isStud in student:\n",
    "                if isStud == stud:\n",
    "                    flag = 0\n",
    "    if flag == 1:\n",
    "        rowsToRemove.append(rCounter)\n",
    "    rCounter = rCounter + 1\n",
    "    \n",
    "rCounter = 0\n",
    "births = refinedData['Country of Birth']  \n",
    "for bir in births:\n",
    "    flag = 1\n",
    "    for country in countryOfBirth:\n",
    "                if country == bir:\n",
    "                    flag = 0\n",
    "    if flag == 1:\n",
    "        rowsToRemove.append(rCounter)\n",
    "    rCounter = rCounter + 1\n",
    "    \n",
    "rCounter = 0\n",
    "healths = refinedData['Health']  \n",
    "for heal in healths:\n",
    "    flag = 1\n",
    "    for he in health:\n",
    "                if he == heal:\n",
    "                    flag = 0\n",
    "    if flag == 1:\n",
    "        rowsToRemove.append(rCounter)\n",
    "    rCounter = rCounter + 1\n",
    "    \n",
    "rCounter = 0\n",
    "ethnics = refinedData['Ethnic Group']  \n",
    "for ethnic in ethnics:\n",
    "    flag = 1\n",
    "    for eth in ethnicGroup:\n",
    "                if eth == ethnic:\n",
    "                    flag = 0\n",
    "    if flag == 1:\n",
    "        rowsToRemove.append(rCounter)\n",
    "    rCounter = rCounter + 1\n",
    "    \n",
    "rCounter = 0\n",
    "religions = refinedData['Religion']  \n",
    "for rel in religions:\n",
    "    flag = 1\n",
    "    for reli in religion:\n",
    "                if reli == rel:\n",
    "                    flag = 0\n",
    "    if flag == 1:\n",
    "        rowsToRemove.append(rCounter)\n",
    "    rCounter = rCounter + 1\n",
    "    \n",
    "rCounter = 0\n",
    "economics = refinedData['Economic Activity']  \n",
    "for economic in economics:\n",
    "    flag = 1\n",
    "    for econ in econActivity:\n",
    "                if econ == economic:\n",
    "                    flag = 0\n",
    "    if flag == 1:\n",
    "        rowsToRemove.append(rCounter)\n",
    "    rCounter = rCounter + 1\n",
    "    \n",
    "rCounter = 0\n",
    "occupations = refinedData['Occupation']  \n",
    "for oc in occupations:\n",
    "    flag = 1\n",
    "    for occup in occupation:\n",
    "                if occup == oc:\n",
    "                    flag = 0\n",
    "    if flag == 1:\n",
    "        rowsToRemove.append(rCounter)\n",
    "    rCounter = rCounter + 1\n",
    "    if rCounter >200:\n",
    "        break\n",
    "\n",
    "rCounter = 0\n",
    "industries = refinedData['Industry']  \n",
    "for indust in industries:\n",
    "    flag = 1\n",
    "    for ind in industry:\n",
    "                if ind == indust:\n",
    "                    flag = 0\n",
    "    if flag == 1:\n",
    "        rowsToRemove.append(rCounter)\n",
    "    rCounter = rCounter + 1\n",
    "    \n",
    "rCounter = 0\n",
    "hoursWorked = refinedData['Hours worked per week']  \n",
    "for hours in hoursWorked:\n",
    "    flag = 1\n",
    "    for work in hoursWorkPerWeek:\n",
    "                if work == hours:\n",
    "                    flag = 0\n",
    "    if flag == 1:\n",
    "        rowsToRemove.append(rCounter)\n",
    "    rCounter = rCounter + 1\n",
    "    \n",
    "rCounter = 0\n",
    "grades = refinedData['Approximated Social Grade']  \n",
    "for grade in grades:\n",
    "    flag = 1\n",
    "    for approx in approxSocialGrade:\n",
    "                if approx == grade:\n",
    "                    flag = 0\n",
    "    if flag == 1:\n",
    "        rowsToRemove.append(rCounter)\n",
    "    rCounter = rCounter + 1\n",
    "    \n",
    "rowsToRemove.sort(reverse=True)\n",
    "\n",
    "for i in rowsToRemove:\n",
    "    refinedData = refinedData.drop(refinedData.index[[i]])\n",
    "\n",
    "refinedData.to_csv(\"refinedData.csv\")\n"
   ]
  },
  {
   "cell_type": "markdown",
   "metadata": {},
   "source": [
    "The second basic requirement is to perform descriptive analysis of the dataset.\n",
    "\n",
    "The first descriptive analysis task is to determine the total number of records in the dataset."
   ]
  },
  {
   "cell_type": "code",
   "execution_count": 9,
   "metadata": {
    "collapsed": false
   },
   "outputs": [
    {
     "data": {
      "text/plain": [
       "569741"
      ]
     },
     "execution_count": 9,
     "metadata": {},
     "output_type": "execute_result"
    }
   ],
   "source": [
    "len(refinedData)"
   ]
  },
  {
   "cell_type": "markdown",
   "metadata": {},
   "source": [
    "The second descriptice analysis task is to determine the type of each variable in the dataset."
   ]
  },
  {
   "cell_type": "code",
   "execution_count": 10,
   "metadata": {
    "collapsed": false
   },
   "outputs": [
    {
     "data": {
      "text/plain": [
       "Person ID                     int64\n",
       "Region                       object\n",
       "Residence Type               object\n",
       "Family Composition            int64\n",
       "Population Base               int64\n",
       "Sex                           int64\n",
       "Age                           int64\n",
       "Marital Status                int64\n",
       "Student                       int64\n",
       "Country of Birth              int64\n",
       "Health                        int64\n",
       "Ethnic Group                  int64\n",
       "Religion                      int64\n",
       "Economic Activity             int64\n",
       "Occupation                    int64\n",
       "Industry                      int64\n",
       "Hours worked per week         int64\n",
       "Approximated Social Grade     int64\n",
       "dtype: object"
      ]
     },
     "execution_count": 10,
     "metadata": {},
     "output_type": "execute_result"
    }
   ],
   "source": [
    "refinedData.dtypes"
   ]
  },
  {
   "cell_type": "markdown",
   "metadata": {},
   "source": [
    "The third descriptive analysis task is for each variable, except \"Person ID\", find all values that it takes, and the number of occurances for each value."
   ]
  },
  {
   "cell_type": "code",
   "execution_count": 11,
   "metadata": {
    "collapsed": false
   },
   "outputs": [
    {
     "data": {
      "text/plain": [
       "Region\n",
       "E12000001    26349\n",
       "E12000002    71436\n",
       "E12000003    53471\n",
       "E12000004    45782\n",
       "E12000005    56875\n",
       "E12000006    59411\n",
       "E12000007    83582\n",
       "E12000008    88084\n",
       "E12000009    53774\n",
       "W92000004    30977\n",
       "dtype: int64"
      ]
     },
     "execution_count": 11,
     "metadata": {},
     "output_type": "execute_result"
    }
   ],
   "source": [
    "region = refinedData.groupby('Region')\n",
    "region.size()"
   ]
  },
  {
   "cell_type": "code",
   "execution_count": 12,
   "metadata": {
    "collapsed": false
   },
   "outputs": [
    {
     "data": {
      "text/plain": [
       "Residence Type\n",
       "C     10654\n",
       "H    559087\n",
       "dtype: int64"
      ]
     },
     "execution_count": 12,
     "metadata": {},
     "output_type": "execute_result"
    }
   ],
   "source": [
    "residenceType = refinedData.groupby('Residence Type')\n",
    "residenceType.size()"
   ]
  },
  {
   "cell_type": "code",
   "execution_count": 13,
   "metadata": {
    "collapsed": false
   },
   "outputs": [
    {
     "data": {
      "text/plain": [
       "Family Composition\n",
       "-9     18851\n",
       " 1     96690\n",
       " 2    300962\n",
       " 3     72641\n",
       " 4      9848\n",
       " 5     64519\n",
       " 6      6230\n",
       "dtype: int64"
      ]
     },
     "execution_count": 13,
     "metadata": {},
     "output_type": "execute_result"
    }
   ],
   "source": [
    "familyComposition = refinedData.groupby('Family Composition')\n",
    "familyComposition.size()"
   ]
  },
  {
   "cell_type": "code",
   "execution_count": 14,
   "metadata": {
    "collapsed": false
   },
   "outputs": [
    {
     "data": {
      "text/plain": [
       "Population Base\n",
       "1    561040\n",
       "2      6730\n",
       "3      1971\n",
       "dtype: int64"
      ]
     },
     "execution_count": 14,
     "metadata": {},
     "output_type": "execute_result"
    }
   ],
   "source": [
    "populationBase = refinedData.groupby('Population Base')\n",
    "populationBase.size()"
   ]
  },
  {
   "cell_type": "code",
   "execution_count": 15,
   "metadata": {
    "collapsed": false
   },
   "outputs": [
    {
     "data": {
      "text/plain": [
       "Sex\n",
       "1    280569\n",
       "2    289172\n",
       "dtype: int64"
      ]
     },
     "execution_count": 15,
     "metadata": {},
     "output_type": "execute_result"
    }
   ],
   "source": [
    "sex = refinedData.groupby('Sex')\n",
    "sex.size()"
   ]
  },
  {
   "cell_type": "code",
   "execution_count": 16,
   "metadata": {
    "collapsed": false
   },
   "outputs": [
    {
     "data": {
      "text/plain": [
       "Age\n",
       "1    106832\n",
       "2     72785\n",
       "3     75948\n",
       "4     78641\n",
       "5     77388\n",
       "6     65666\n",
       "7     48777\n",
       "8     43704\n",
       "dtype: int64"
      ]
     },
     "execution_count": 16,
     "metadata": {},
     "output_type": "execute_result"
    }
   ],
   "source": [
    "age = refinedData.groupby('Age')\n",
    "age.size()"
   ]
  },
  {
   "cell_type": "code",
   "execution_count": 17,
   "metadata": {
    "collapsed": false
   },
   "outputs": [
    {
     "data": {
      "text/plain": [
       "Marital Status\n",
       "1    270999\n",
       "2    214180\n",
       "3     11951\n",
       "4     40713\n",
       "5     31898\n",
       "dtype: int64"
      ]
     },
     "execution_count": 17,
     "metadata": {},
     "output_type": "execute_result"
    }
   ],
   "source": [
    "maritalStatus = refinedData.groupby('Marital Status')\n",
    "maritalStatus.size()"
   ]
  },
  {
   "cell_type": "code",
   "execution_count": 18,
   "metadata": {
    "collapsed": false
   },
   "outputs": [
    {
     "data": {
      "text/plain": [
       "Student\n",
       "1    126537\n",
       "2    443204\n",
       "dtype: int64"
      ]
     },
     "execution_count": 18,
     "metadata": {},
     "output_type": "execute_result"
    }
   ],
   "source": [
    "student = refinedData.groupby('Student')\n",
    "student.size()"
   ]
  },
  {
   "cell_type": "code",
   "execution_count": 19,
   "metadata": {
    "collapsed": false
   },
   "outputs": [
    {
     "data": {
      "text/plain": [
       "Country of Birth\n",
       "-9      6804\n",
       " 1    485645\n",
       " 2     77292\n",
       "dtype: int64"
      ]
     },
     "execution_count": 19,
     "metadata": {},
     "output_type": "execute_result"
    }
   ],
   "source": [
    "countryOfBirth = refinedData.groupby('Country of Birth')\n",
    "countryOfBirth.size()"
   ]
  },
  {
   "cell_type": "code",
   "execution_count": 20,
   "metadata": {
    "collapsed": false
   },
   "outputs": [
    {
     "data": {
      "text/plain": [
       "Health\n",
       "-9      6804\n",
       " 1    264971\n",
       " 2    191744\n",
       " 3     74480\n",
       " 4     24558\n",
       " 5      7184\n",
       "dtype: int64"
      ]
     },
     "execution_count": 20,
     "metadata": {},
     "output_type": "execute_result"
    }
   ],
   "source": [
    "health = refinedData.groupby('Health')\n",
    "health.size()"
   ]
  },
  {
   "cell_type": "code",
   "execution_count": 21,
   "metadata": {
    "collapsed": false
   },
   "outputs": [
    {
     "data": {
      "text/plain": [
       "Ethnic Group\n",
       "-9      6804\n",
       " 1    483477\n",
       " 2     12209\n",
       " 3     42712\n",
       " 4     18786\n",
       " 5      5753\n",
       "dtype: int64"
      ]
     },
     "execution_count": 21,
     "metadata": {},
     "output_type": "execute_result"
    }
   ],
   "source": [
    "ethnicGroup = refinedData.groupby('Ethnic Group')\n",
    "ethnicGroup.size()"
   ]
  },
  {
   "cell_type": "code",
   "execution_count": 22,
   "metadata": {
    "collapsed": false
   },
   "outputs": [
    {
     "data": {
      "text/plain": [
       "Religion\n",
       "-9      6804\n",
       " 1    141658\n",
       " 2    333481\n",
       " 3      2538\n",
       " 4      8214\n",
       " 5      2572\n",
       " 6     27240\n",
       " 7      4215\n",
       " 8      2406\n",
       " 9     40613\n",
       "dtype: int64"
      ]
     },
     "execution_count": 22,
     "metadata": {},
     "output_type": "execute_result"
    }
   ],
   "source": [
    "religion = refinedData.groupby('Religion')\n",
    "religion.size()"
   ]
  },
  {
   "cell_type": "code",
   "execution_count": 23,
   "metadata": {
    "collapsed": false
   },
   "outputs": [
    {
     "data": {
      "text/plain": [
       "Economic Activity\n",
       "-9    112618\n",
       " 1    216025\n",
       " 2     40632\n",
       " 3     18109\n",
       " 4     14117\n",
       " 5     97480\n",
       " 6     24756\n",
       " 7     17945\n",
       " 8     17991\n",
       " 9     10068\n",
       "dtype: int64"
      ]
     },
     "execution_count": 23,
     "metadata": {},
     "output_type": "execute_result"
    }
   ],
   "source": [
    "economicActivity = refinedData.groupby('Economic Activity')\n",
    "economicActivity.size()"
   ]
  },
  {
   "cell_type": "code",
   "execution_count": 24,
   "metadata": {
    "collapsed": false
   },
   "outputs": [
    {
     "data": {
      "text/plain": [
       "Occupation\n",
       "-9    149984\n",
       " 1     39788\n",
       " 2     64111\n",
       " 3     44937\n",
       " 4     53254\n",
       " 5     48546\n",
       " 6     37297\n",
       " 7     38523\n",
       " 8     34818\n",
       " 9     58483\n",
       "dtype: int64"
      ]
     },
     "execution_count": 24,
     "metadata": {},
     "output_type": "execute_result"
    }
   ],
   "source": [
    "occupation = refinedData.groupby('Occupation')\n",
    "occupation.size()"
   ]
  },
  {
   "cell_type": "code",
   "execution_count": 25,
   "metadata": {
    "collapsed": false
   },
   "outputs": [
    {
     "data": {
      "text/plain": [
       "Industry\n",
       "-9     149984\n",
       " 1       3957\n",
       " 2      53433\n",
       " 3      30708\n",
       " 4      68878\n",
       " 5      25736\n",
       " 6      35240\n",
       " 7      16776\n",
       " 8      49960\n",
       " 9      24908\n",
       " 10     40560\n",
       " 11     49345\n",
       " 12     20256\n",
       "dtype: int64"
      ]
     },
     "execution_count": 25,
     "metadata": {},
     "output_type": "execute_result"
    }
   ],
   "source": [
    "industry = refinedData.groupby('Industry')\n",
    "industry.size()"
   ]
  },
  {
   "cell_type": "code",
   "execution_count": 26,
   "metadata": {
    "collapsed": false
   },
   "outputs": [
    {
     "data": {
      "text/plain": [
       "Hours worked per week\n",
       "-9    302321\n",
       " 1     25776\n",
       " 2     52133\n",
       " 3    153938\n",
       " 4     35573\n",
       "dtype: int64"
      ]
     },
     "execution_count": 26,
     "metadata": {},
     "output_type": "execute_result"
    }
   ],
   "source": [
    "hoursWorkedPerWeek = refinedData.groupby('Hours worked per week')\n",
    "hoursWorkedPerWeek.size()"
   ]
  },
  {
   "cell_type": "code",
   "execution_count": 27,
   "metadata": {
    "collapsed": false
   },
   "outputs": [
    {
     "data": {
      "text/plain": [
       "Approximated Social Grade\n",
       "-9    124103\n",
       " 1     82320\n",
       " 2    159642\n",
       " 3     79936\n",
       " 4    123740\n",
       "dtype: int64"
      ]
     },
     "execution_count": 27,
     "metadata": {},
     "output_type": "execute_result"
    }
   ],
   "source": [
    "approximatedSocialGrade = refinedData.groupby('Approximated Social Grade')\n",
    "approximatedSocialGrade.size()"
   ]
  },
  {
   "cell_type": "markdown",
   "metadata": {},
   "source": [
    "The third requirement was to build plots for the data specified in the practical specification."
   ]
  },
  {
   "cell_type": "code",
   "execution_count": 28,
   "metadata": {
    "collapsed": true
   },
   "outputs": [],
   "source": [
    "import matplotlib.pyplot as plt\n",
    "import matplotlib.patches as patch\n",
    "%matplotlib inline"
   ]
  },
  {
   "cell_type": "markdown",
   "metadata": {},
   "source": [
    "The first plot is a bar chart for the number of records for each region."
   ]
  },
  {
   "cell_type": "code",
   "execution_count": 29,
   "metadata": {
    "collapsed": false
   },
   "outputs": [
    {
     "data": {
      "image/png": "[encoded data removed]",
      "text/plain": [
       "<matplotlib.figure.Figure at 0x7efc1f671e10>"
      ]
     },
     "metadata": {},
     "output_type": "display_data"
    }
   ],
   "source": [
    "refinedData['Region'].value_counts().plot(kind=\"bar\")\n",
    "\n",
    "region1_patch = patch.Patch(label='E12000008 = South East')\n",
    "region2_patch = patch.Patch(label='E12000007 = London')\n",
    "region3_patch = patch.Patch(label='E12000002 = North West')\n",
    "region4_patch = patch.Patch(label='E12000006 = East of England')\n",
    "region5_patch = patch.Patch(label='E12000005 = West Midlands')\n",
    "region6_patch = patch.Patch(label='E12000009 =  South West')\n",
    "region7_patch = patch.Patch(label='E12000003 = Yorkshire and the Humber')\n",
    "region8_patch = patch.Patch(label='E12000004 = East Midlands')\n",
    "region9_patch = patch.Patch(label='W92000004 = Wales')\n",
    "region10_patch = patch.Patch(label='E12000001 = North East')\n",
    "\n",
    "plt.legend(handles=[region1_patch,region2_patch,region3_patch,region4_patch,region5_patch,region6_patch,region7_patch,region8_patch,region9_patch,region10_patch], loc = 'lower right', bbox_to_anchor=(0.5,1.05))\n",
    "plt.show()"
   ]
  },
  {
   "cell_type": "markdown",
   "metadata": {},
   "source": [
    "The second plot is a bar chart for the number of records for each occupation."
   ]
  },
  {
   "cell_type": "code",
   "execution_count": 30,
   "metadata": {
    "collapsed": false
   },
   "outputs": [
    {
     "data": {
      "image/png": "[encoded data removed]",
      "text/plain": [
       "<matplotlib.figure.Figure at 0x7efc0a5f2780>"
      ]
     },
     "metadata": {},
     "output_type": "display_data"
    }
   ],
   "source": [
    "refinedData['Occupation'].value_counts().plot(kind=\"bar\")\n",
    "\n",
    "occupation1_patch = patch.Patch(label='-9 = People under 16 or People who have never worked')\n",
    "occupation2_patch = patch.Patch(label='2 = Professional Occupations')\n",
    "occupation3_patch = patch.Patch(label='9 = Elementary Occupations')\n",
    "occupation4_patch = patch.Patch(label='4 = Administrative and Secreterial Occupations')\n",
    "occupation5_patch = patch.Patch(label='5 = Skilled Trade Occupations')\n",
    "occupation6_patch = patch.Patch(label='3 = Associate Profession and Technical Occupations')\n",
    "occupation7_patch = patch.Patch(label='1 = Managers, Directors and Senior Officals')\n",
    "occupation8_patch = patch.Patch(label='7 = Sales and Customer Service Occupations')\n",
    "occupation9_patch = patch.Patch(label='6 = Caring, Leisure and Other Service Occupations')\n",
    "occupation10_patch = patch.Patch(label='8 = Process Plant and Machine Operatives')\n",
    "\n",
    "plt.legend(handles=[occupation1_patch,occupation2_patch,occupation3_patch,occupation4_patch,occupation5_patch,occupation6_patch,occupation7_patch,occupation8_patch,occupation9_patch,occupation10_patch], loc = 'lower right', bbox_to_anchor=(0.5,1.05))\n",
    "plt.show()"
   ]
  },
  {
   "cell_type": "markdown",
   "metadata": {},
   "source": [
    "The third plot is a pie chart for the distribution of the sample by age."
   ]
  },
  {
   "cell_type": "code",
   "execution_count": 31,
   "metadata": {
    "collapsed": false
   },
   "outputs": [
    {
     "data": {
      "image/png": "[encoded data removed]",
      "text/plain": [
       "<matplotlib.figure.Figure at 0x7efc0a4679e8>"
      ]
     },
     "metadata": {},
     "output_type": "display_data"
    }
   ],
   "source": [
    "colors = ['#ff0000', '#800000', '#cc3300', '#ffff00', '#ff9933', '#ffff99', '#663300', '#ff6600']\n",
    "    \n",
    "refinedData['Age'].value_counts().plot(kind=\"pie\", colors = colors)\n",
    "\n",
    "five_patch = patch.Patch(color='#cc3300', label='5 = 45-54 years')\n",
    "four_patch = patch.Patch(color='#800000', label='4 = 35-44 years')\n",
    "two_patch = patch.Patch(color='#ff9933', label='2 = 16-24 years')\n",
    "six_patch = patch.Patch(color='#ffff99', label='6 = 55-64 years')\n",
    "seven_patch = patch.Patch(color='#663300', label='7 = 65-74 years')\n",
    "one_patch = patch.Patch(color='#ff0000', label='1 = 0-15 years')\n",
    "eight_patch = patch.Patch(color='#ff6600', label='8 = 75 and Over years')\n",
    "three_patch = patch.Patch(color='#ffff00', label='3 = 25 to 34 years')\n",
    "\n",
    "plt.legend(handles=[one_patch, two_patch, three_patch, four_patch, five_patch, six_patch, seven_patch, eight_patch], loc = 'lower right', bbox_to_anchor=(0.5,1.05))\n",
    "plt.show()"
   ]
  },
  {
   "cell_type": "markdown",
   "metadata": {},
   "source": [
    "The forth plot is a pie chart for the distribution of the sample by the economic activity."
   ]
  },
  {
   "cell_type": "code",
   "execution_count": 32,
   "metadata": {
    "collapsed": false
   },
   "outputs": [
    {
     "data": {
      "image/png": "[encoded data removed]",
      "text/plain": [
       "<matplotlib.figure.Figure at 0x7efc0a4cf908>"
      ]
     },
     "metadata": {},
     "output_type": "display_data"
    }
   ],
   "source": [
    "colors = ['#009933', '#00cc66', '#009999', '#336699', '#003399', '#0099ff', '#00ffcc', '#3333cc', '#9999ff', '#99ccff']\n",
    "refinedData['Economic Activity'].value_counts().plot(kind=\"pie\", colors = colors)\n",
    "\n",
    "five_patch = patch.Patch(color='#009999', label='5 = Retired')\n",
    "minusnine_patch = patch.Patch(color='#00cc66', label='-9 = Aged under 16 or Student Living away from Home')\n",
    "six_patch = patch.Patch(color='#003399', label='6 = Student')\n",
    "three_patch = patch.Patch(color='#0099ff', label='3 = Unemployed')\n",
    "eight_patch = patch.Patch(color='#00ffcc', label='8 = Long-term sick or Disabled')\n",
    "one_patch = patch.Patch(color='#009933', label='1 =  Employee')\n",
    "seven_patch = patch.Patch(color='#3333cc', label='7 = Looking after home or family')\n",
    "four_patch = patch.Patch(color='#9999ff', label='4 = Full-time Student')\n",
    "nine_patch = patch.Patch(color='#99ccff', label='9 = Other')\n",
    "two_patch = patch.Patch(color='#336699', label = '2 = Self-employed')\n",
    "\n",
    "plt.legend(handles=[one_patch, two_patch, three_patch, four_patch, five_patch, six_patch, seven_patch, eight_patch, nine_patch, minusnine_patch], loc = 'lower right', bbox_to_anchor=(0.5,1.05))\n",
    "plt.show()"
   ]
  },
  {
   "cell_type": "markdown",
   "metadata": {},
   "source": [
    "The first easy additional requirement, is to produce two tables, using 'groupby' objects.\n",
    "The first table to be produced is the number of record by region and industry."
   ]
  },
  {
   "cell_type": "code",
   "execution_count": 33,
   "metadata": {
    "collapsed": false
   },
   "outputs": [
    {
     "data": {
      "text/html": [
       "<div>\n",
       "<table border=\"1\" class=\"dataframe\">\n",
       "  <thead>\n",
       "    <tr style=\"text-align: right;\">\n",
       "      <th></th>\n",
       "      <th>Region</th>\n",
       "      <th>Industry</th>\n",
       "      <th>Count</th>\n",
       "    </tr>\n",
       "  </thead>\n",
       "  <tbody>\n",
       "    <tr>\n",
       "      <th>0</th>\n",
       "      <td>E12000001</td>\n",
       "      <td>-9</td>\n",
       "      <td>6854</td>\n",
       "    </tr>\n",
       "    <tr>\n",
       "      <th>1</th>\n",
       "      <td>E12000001</td>\n",
       "      <td>1</td>\n",
       "      <td>132</td>\n",
       "    </tr>\n",
       "    <tr>\n",
       "      <th>2</th>\n",
       "      <td>E12000001</td>\n",
       "      <td>2</td>\n",
       "      <td>2851</td>\n",
       "    </tr>\n",
       "    <tr>\n",
       "      <th>3</th>\n",
       "      <td>E12000001</td>\n",
       "      <td>3</td>\n",
       "      <td>1574</td>\n",
       "    </tr>\n",
       "    <tr>\n",
       "      <th>4</th>\n",
       "      <td>E12000001</td>\n",
       "      <td>4</td>\n",
       "      <td>3087</td>\n",
       "    </tr>\n",
       "    <tr>\n",
       "      <th>5</th>\n",
       "      <td>E12000001</td>\n",
       "      <td>5</td>\n",
       "      <td>1300</td>\n",
       "    </tr>\n",
       "    <tr>\n",
       "      <th>6</th>\n",
       "      <td>E12000001</td>\n",
       "      <td>6</td>\n",
       "      <td>1438</td>\n",
       "    </tr>\n",
       "    <tr>\n",
       "      <th>7</th>\n",
       "      <td>E12000001</td>\n",
       "      <td>7</td>\n",
       "      <td>524</td>\n",
       "    </tr>\n",
       "    <tr>\n",
       "      <th>8</th>\n",
       "      <td>E12000001</td>\n",
       "      <td>8</td>\n",
       "      <td>1883</td>\n",
       "    </tr>\n",
       "    <tr>\n",
       "      <th>9</th>\n",
       "      <td>E12000001</td>\n",
       "      <td>9</td>\n",
       "      <td>1498</td>\n",
       "    </tr>\n",
       "    <tr>\n",
       "      <th>10</th>\n",
       "      <td>E12000001</td>\n",
       "      <td>10</td>\n",
       "      <td>1836</td>\n",
       "    </tr>\n",
       "    <tr>\n",
       "      <th>11</th>\n",
       "      <td>E12000001</td>\n",
       "      <td>11</td>\n",
       "      <td>2524</td>\n",
       "    </tr>\n",
       "    <tr>\n",
       "      <th>12</th>\n",
       "      <td>E12000001</td>\n",
       "      <td>12</td>\n",
       "      <td>848</td>\n",
       "    </tr>\n",
       "    <tr>\n",
       "      <th>13</th>\n",
       "      <td>E12000002</td>\n",
       "      <td>-9</td>\n",
       "      <td>18755</td>\n",
       "    </tr>\n",
       "    <tr>\n",
       "      <th>14</th>\n",
       "      <td>E12000002</td>\n",
       "      <td>1</td>\n",
       "      <td>357</td>\n",
       "    </tr>\n",
       "    <tr>\n",
       "      <th>15</th>\n",
       "      <td>E12000002</td>\n",
       "      <td>2</td>\n",
       "      <td>7726</td>\n",
       "    </tr>\n",
       "    <tr>\n",
       "      <th>16</th>\n",
       "      <td>E12000002</td>\n",
       "      <td>3</td>\n",
       "      <td>3778</td>\n",
       "    </tr>\n",
       "    <tr>\n",
       "      <th>17</th>\n",
       "      <td>E12000002</td>\n",
       "      <td>4</td>\n",
       "      <td>9016</td>\n",
       "    </tr>\n",
       "    <tr>\n",
       "      <th>18</th>\n",
       "      <td>E12000002</td>\n",
       "      <td>5</td>\n",
       "      <td>3355</td>\n",
       "    </tr>\n",
       "    <tr>\n",
       "      <th>19</th>\n",
       "      <td>E12000002</td>\n",
       "      <td>6</td>\n",
       "      <td>3981</td>\n",
       "    </tr>\n",
       "    <tr>\n",
       "      <th>20</th>\n",
       "      <td>E12000002</td>\n",
       "      <td>7</td>\n",
       "      <td>1597</td>\n",
       "    </tr>\n",
       "    <tr>\n",
       "      <th>21</th>\n",
       "      <td>E12000002</td>\n",
       "      <td>8</td>\n",
       "      <td>5822</td>\n",
       "    </tr>\n",
       "    <tr>\n",
       "      <th>22</th>\n",
       "      <td>E12000002</td>\n",
       "      <td>9</td>\n",
       "      <td>3096</td>\n",
       "    </tr>\n",
       "    <tr>\n",
       "      <th>23</th>\n",
       "      <td>E12000002</td>\n",
       "      <td>10</td>\n",
       "      <td>4890</td>\n",
       "    </tr>\n",
       "    <tr>\n",
       "      <th>24</th>\n",
       "      <td>E12000002</td>\n",
       "      <td>11</td>\n",
       "      <td>6764</td>\n",
       "    </tr>\n",
       "    <tr>\n",
       "      <th>25</th>\n",
       "      <td>E12000002</td>\n",
       "      <td>12</td>\n",
       "      <td>2299</td>\n",
       "    </tr>\n",
       "    <tr>\n",
       "      <th>26</th>\n",
       "      <td>E12000003</td>\n",
       "      <td>-9</td>\n",
       "      <td>14089</td>\n",
       "    </tr>\n",
       "    <tr>\n",
       "      <th>27</th>\n",
       "      <td>E12000003</td>\n",
       "      <td>1</td>\n",
       "      <td>362</td>\n",
       "    </tr>\n",
       "    <tr>\n",
       "      <th>28</th>\n",
       "      <td>E12000003</td>\n",
       "      <td>2</td>\n",
       "      <td>5956</td>\n",
       "    </tr>\n",
       "    <tr>\n",
       "      <th>29</th>\n",
       "      <td>E12000003</td>\n",
       "      <td>3</td>\n",
       "      <td>3028</td>\n",
       "    </tr>\n",
       "    <tr>\n",
       "      <th>...</th>\n",
       "      <td>...</td>\n",
       "      <td>...</td>\n",
       "      <td>...</td>\n",
       "    </tr>\n",
       "    <tr>\n",
       "      <th>100</th>\n",
       "      <td>E12000008</td>\n",
       "      <td>9</td>\n",
       "      <td>4145</td>\n",
       "    </tr>\n",
       "    <tr>\n",
       "      <th>101</th>\n",
       "      <td>E12000008</td>\n",
       "      <td>10</td>\n",
       "      <td>6593</td>\n",
       "    </tr>\n",
       "    <tr>\n",
       "      <th>102</th>\n",
       "      <td>E12000008</td>\n",
       "      <td>11</td>\n",
       "      <td>7344</td>\n",
       "    </tr>\n",
       "    <tr>\n",
       "      <th>103</th>\n",
       "      <td>E12000008</td>\n",
       "      <td>12</td>\n",
       "      <td>3316</td>\n",
       "    </tr>\n",
       "    <tr>\n",
       "      <th>104</th>\n",
       "      <td>E12000009</td>\n",
       "      <td>-9</td>\n",
       "      <td>12401</td>\n",
       "    </tr>\n",
       "    <tr>\n",
       "      <th>105</th>\n",
       "      <td>E12000009</td>\n",
       "      <td>1</td>\n",
       "      <td>697</td>\n",
       "    </tr>\n",
       "    <tr>\n",
       "      <th>106</th>\n",
       "      <td>E12000009</td>\n",
       "      <td>2</td>\n",
       "      <td>5012</td>\n",
       "    </tr>\n",
       "    <tr>\n",
       "      <th>107</th>\n",
       "      <td>E12000009</td>\n",
       "      <td>3</td>\n",
       "      <td>3033</td>\n",
       "    </tr>\n",
       "    <tr>\n",
       "      <th>108</th>\n",
       "      <td>E12000009</td>\n",
       "      <td>4</td>\n",
       "      <td>6899</td>\n",
       "    </tr>\n",
       "    <tr>\n",
       "      <th>109</th>\n",
       "      <td>E12000009</td>\n",
       "      <td>5</td>\n",
       "      <td>2712</td>\n",
       "    </tr>\n",
       "    <tr>\n",
       "      <th>110</th>\n",
       "      <td>E12000009</td>\n",
       "      <td>6</td>\n",
       "      <td>2961</td>\n",
       "    </tr>\n",
       "    <tr>\n",
       "      <th>111</th>\n",
       "      <td>E12000009</td>\n",
       "      <td>7</td>\n",
       "      <td>1510</td>\n",
       "    </tr>\n",
       "    <tr>\n",
       "      <th>112</th>\n",
       "      <td>E12000009</td>\n",
       "      <td>8</td>\n",
       "      <td>4475</td>\n",
       "    </tr>\n",
       "    <tr>\n",
       "      <th>113</th>\n",
       "      <td>E12000009</td>\n",
       "      <td>9</td>\n",
       "      <td>2973</td>\n",
       "    </tr>\n",
       "    <tr>\n",
       "      <th>114</th>\n",
       "      <td>E12000009</td>\n",
       "      <td>10</td>\n",
       "      <td>4039</td>\n",
       "    </tr>\n",
       "    <tr>\n",
       "      <th>115</th>\n",
       "      <td>E12000009</td>\n",
       "      <td>11</td>\n",
       "      <td>5085</td>\n",
       "    </tr>\n",
       "    <tr>\n",
       "      <th>116</th>\n",
       "      <td>E12000009</td>\n",
       "      <td>12</td>\n",
       "      <td>1977</td>\n",
       "    </tr>\n",
       "    <tr>\n",
       "      <th>117</th>\n",
       "      <td>W92000004</td>\n",
       "      <td>-9</td>\n",
       "      <td>7937</td>\n",
       "    </tr>\n",
       "    <tr>\n",
       "      <th>118</th>\n",
       "      <td>W92000004</td>\n",
       "      <td>1</td>\n",
       "      <td>403</td>\n",
       "    </tr>\n",
       "    <tr>\n",
       "      <th>119</th>\n",
       "      <td>W92000004</td>\n",
       "      <td>2</td>\n",
       "      <td>3504</td>\n",
       "    </tr>\n",
       "    <tr>\n",
       "      <th>120</th>\n",
       "      <td>W92000004</td>\n",
       "      <td>3</td>\n",
       "      <td>1731</td>\n",
       "    </tr>\n",
       "    <tr>\n",
       "      <th>121</th>\n",
       "      <td>W92000004</td>\n",
       "      <td>4</td>\n",
       "      <td>3751</td>\n",
       "    </tr>\n",
       "    <tr>\n",
       "      <th>122</th>\n",
       "      <td>W92000004</td>\n",
       "      <td>5</td>\n",
       "      <td>1641</td>\n",
       "    </tr>\n",
       "    <tr>\n",
       "      <th>123</th>\n",
       "      <td>W92000004</td>\n",
       "      <td>6</td>\n",
       "      <td>1500</td>\n",
       "    </tr>\n",
       "    <tr>\n",
       "      <th>124</th>\n",
       "      <td>W92000004</td>\n",
       "      <td>7</td>\n",
       "      <td>594</td>\n",
       "    </tr>\n",
       "    <tr>\n",
       "      <th>125</th>\n",
       "      <td>W92000004</td>\n",
       "      <td>8</td>\n",
       "      <td>2010</td>\n",
       "    </tr>\n",
       "    <tr>\n",
       "      <th>126</th>\n",
       "      <td>W92000004</td>\n",
       "      <td>9</td>\n",
       "      <td>1714</td>\n",
       "    </tr>\n",
       "    <tr>\n",
       "      <th>127</th>\n",
       "      <td>W92000004</td>\n",
       "      <td>10</td>\n",
       "      <td>2313</td>\n",
       "    </tr>\n",
       "    <tr>\n",
       "      <th>128</th>\n",
       "      <td>W92000004</td>\n",
       "      <td>11</td>\n",
       "      <td>2887</td>\n",
       "    </tr>\n",
       "    <tr>\n",
       "      <th>129</th>\n",
       "      <td>W92000004</td>\n",
       "      <td>12</td>\n",
       "      <td>992</td>\n",
       "    </tr>\n",
       "  </tbody>\n",
       "</table>\n",
       "<p>130 rows × 3 columns</p>\n",
       "</div>"
      ],
      "text/plain": [
       "        Region  Industry  Count\n",
       "0    E12000001        -9   6854\n",
       "1    E12000001         1    132\n",
       "2    E12000001         2   2851\n",
       "3    E12000001         3   1574\n",
       "4    E12000001         4   3087\n",
       "5    E12000001         5   1300\n",
       "6    E12000001         6   1438\n",
       "7    E12000001         7    524\n",
       "8    E12000001         8   1883\n",
       "9    E12000001         9   1498\n",
       "10   E12000001        10   1836\n",
       "11   E12000001        11   2524\n",
       "12   E12000001        12    848\n",
       "13   E12000002        -9  18755\n",
       "14   E12000002         1    357\n",
       "15   E12000002         2   7726\n",
       "16   E12000002         3   3778\n",
       "17   E12000002         4   9016\n",
       "18   E12000002         5   3355\n",
       "19   E12000002         6   3981\n",
       "20   E12000002         7   1597\n",
       "21   E12000002         8   5822\n",
       "22   E12000002         9   3096\n",
       "23   E12000002        10   4890\n",
       "24   E12000002        11   6764\n",
       "25   E12000002        12   2299\n",
       "26   E12000003        -9  14089\n",
       "27   E12000003         1    362\n",
       "28   E12000003         2   5956\n",
       "29   E12000003         3   3028\n",
       "..         ...       ...    ...\n",
       "100  E12000008         9   4145\n",
       "101  E12000008        10   6593\n",
       "102  E12000008        11   7344\n",
       "103  E12000008        12   3316\n",
       "104  E12000009        -9  12401\n",
       "105  E12000009         1    697\n",
       "106  E12000009         2   5012\n",
       "107  E12000009         3   3033\n",
       "108  E12000009         4   6899\n",
       "109  E12000009         5   2712\n",
       "110  E12000009         6   2961\n",
       "111  E12000009         7   1510\n",
       "112  E12000009         8   4475\n",
       "113  E12000009         9   2973\n",
       "114  E12000009        10   4039\n",
       "115  E12000009        11   5085\n",
       "116  E12000009        12   1977\n",
       "117  W92000004        -9   7937\n",
       "118  W92000004         1    403\n",
       "119  W92000004         2   3504\n",
       "120  W92000004         3   1731\n",
       "121  W92000004         4   3751\n",
       "122  W92000004         5   1641\n",
       "123  W92000004         6   1500\n",
       "124  W92000004         7    594\n",
       "125  W92000004         8   2010\n",
       "126  W92000004         9   1714\n",
       "127  W92000004        10   2313\n",
       "128  W92000004        11   2887\n",
       "129  W92000004        12    992\n",
       "\n",
       "[130 rows x 3 columns]"
      ]
     },
     "execution_count": 33,
     "metadata": {},
     "output_type": "execute_result"
    }
   ],
   "source": [
    "byRegionAndIndustry = refinedData[['Region', 'Industry']].copy()\n",
    "byRegionAndIndustry = byRegionAndIndustry.groupby(['Region', 'Industry']).size()\n",
    "byRegionAndIndustry.reset_index(name='Count')"
   ]
  },
  {
   "cell_type": "markdown",
   "metadata": {},
   "source": [
    "The second table to produce is the number of records by occupation and social grade."
   ]
  },
  {
   "cell_type": "code",
   "execution_count": 34,
   "metadata": {
    "collapsed": false
   },
   "outputs": [
    {
     "data": {
      "text/html": [
       "<div>\n",
       "<table border=\"1\" class=\"dataframe\">\n",
       "  <thead>\n",
       "    <tr style=\"text-align: right;\">\n",
       "      <th></th>\n",
       "      <th>Occupation</th>\n",
       "      <th>Approximated Social Grade</th>\n",
       "      <th>Count</th>\n",
       "    </tr>\n",
       "  </thead>\n",
       "  <tbody>\n",
       "    <tr>\n",
       "      <th>0</th>\n",
       "      <td>-9</td>\n",
       "      <td>-9</td>\n",
       "      <td>116915</td>\n",
       "    </tr>\n",
       "    <tr>\n",
       "      <th>1</th>\n",
       "      <td>-9</td>\n",
       "      <td>1</td>\n",
       "      <td>1051</td>\n",
       "    </tr>\n",
       "    <tr>\n",
       "      <th>2</th>\n",
       "      <td>-9</td>\n",
       "      <td>2</td>\n",
       "      <td>17787</td>\n",
       "    </tr>\n",
       "    <tr>\n",
       "      <th>3</th>\n",
       "      <td>-9</td>\n",
       "      <td>3</td>\n",
       "      <td>2062</td>\n",
       "    </tr>\n",
       "    <tr>\n",
       "      <th>4</th>\n",
       "      <td>-9</td>\n",
       "      <td>4</td>\n",
       "      <td>12169</td>\n",
       "    </tr>\n",
       "    <tr>\n",
       "      <th>5</th>\n",
       "      <td>1</td>\n",
       "      <td>-9</td>\n",
       "      <td>492</td>\n",
       "    </tr>\n",
       "    <tr>\n",
       "      <th>6</th>\n",
       "      <td>1</td>\n",
       "      <td>1</td>\n",
       "      <td>19190</td>\n",
       "    </tr>\n",
       "    <tr>\n",
       "      <th>7</th>\n",
       "      <td>1</td>\n",
       "      <td>2</td>\n",
       "      <td>18555</td>\n",
       "    </tr>\n",
       "    <tr>\n",
       "      <th>8</th>\n",
       "      <td>1</td>\n",
       "      <td>3</td>\n",
       "      <td>584</td>\n",
       "    </tr>\n",
       "    <tr>\n",
       "      <th>9</th>\n",
       "      <td>1</td>\n",
       "      <td>4</td>\n",
       "      <td>967</td>\n",
       "    </tr>\n",
       "    <tr>\n",
       "      <th>10</th>\n",
       "      <td>2</td>\n",
       "      <td>-9</td>\n",
       "      <td>884</td>\n",
       "    </tr>\n",
       "    <tr>\n",
       "      <th>11</th>\n",
       "      <td>2</td>\n",
       "      <td>1</td>\n",
       "      <td>48104</td>\n",
       "    </tr>\n",
       "    <tr>\n",
       "      <th>12</th>\n",
       "      <td>2</td>\n",
       "      <td>2</td>\n",
       "      <td>13223</td>\n",
       "    </tr>\n",
       "    <tr>\n",
       "      <th>13</th>\n",
       "      <td>2</td>\n",
       "      <td>3</td>\n",
       "      <td>891</td>\n",
       "    </tr>\n",
       "    <tr>\n",
       "      <th>14</th>\n",
       "      <td>2</td>\n",
       "      <td>4</td>\n",
       "      <td>1009</td>\n",
       "    </tr>\n",
       "    <tr>\n",
       "      <th>15</th>\n",
       "      <td>3</td>\n",
       "      <td>-9</td>\n",
       "      <td>819</td>\n",
       "    </tr>\n",
       "    <tr>\n",
       "      <th>16</th>\n",
       "      <td>3</td>\n",
       "      <td>1</td>\n",
       "      <td>7050</td>\n",
       "    </tr>\n",
       "    <tr>\n",
       "      <th>17</th>\n",
       "      <td>3</td>\n",
       "      <td>2</td>\n",
       "      <td>35435</td>\n",
       "    </tr>\n",
       "    <tr>\n",
       "      <th>18</th>\n",
       "      <td>3</td>\n",
       "      <td>3</td>\n",
       "      <td>647</td>\n",
       "    </tr>\n",
       "    <tr>\n",
       "      <th>19</th>\n",
       "      <td>3</td>\n",
       "      <td>4</td>\n",
       "      <td>986</td>\n",
       "    </tr>\n",
       "    <tr>\n",
       "      <th>20</th>\n",
       "      <td>4</td>\n",
       "      <td>-9</td>\n",
       "      <td>727</td>\n",
       "    </tr>\n",
       "    <tr>\n",
       "      <th>21</th>\n",
       "      <td>4</td>\n",
       "      <td>1</td>\n",
       "      <td>3000</td>\n",
       "    </tr>\n",
       "    <tr>\n",
       "      <th>22</th>\n",
       "      <td>4</td>\n",
       "      <td>2</td>\n",
       "      <td>44922</td>\n",
       "    </tr>\n",
       "    <tr>\n",
       "      <th>23</th>\n",
       "      <td>4</td>\n",
       "      <td>3</td>\n",
       "      <td>2353</td>\n",
       "    </tr>\n",
       "    <tr>\n",
       "      <th>24</th>\n",
       "      <td>4</td>\n",
       "      <td>4</td>\n",
       "      <td>2252</td>\n",
       "    </tr>\n",
       "    <tr>\n",
       "      <th>25</th>\n",
       "      <td>5</td>\n",
       "      <td>-9</td>\n",
       "      <td>678</td>\n",
       "    </tr>\n",
       "    <tr>\n",
       "      <th>26</th>\n",
       "      <td>5</td>\n",
       "      <td>1</td>\n",
       "      <td>585</td>\n",
       "    </tr>\n",
       "    <tr>\n",
       "      <th>27</th>\n",
       "      <td>5</td>\n",
       "      <td>2</td>\n",
       "      <td>2464</td>\n",
       "    </tr>\n",
       "    <tr>\n",
       "      <th>28</th>\n",
       "      <td>5</td>\n",
       "      <td>3</td>\n",
       "      <td>37190</td>\n",
       "    </tr>\n",
       "    <tr>\n",
       "      <th>29</th>\n",
       "      <td>5</td>\n",
       "      <td>4</td>\n",
       "      <td>7629</td>\n",
       "    </tr>\n",
       "    <tr>\n",
       "      <th>30</th>\n",
       "      <td>6</td>\n",
       "      <td>-9</td>\n",
       "      <td>478</td>\n",
       "    </tr>\n",
       "    <tr>\n",
       "      <th>31</th>\n",
       "      <td>6</td>\n",
       "      <td>1</td>\n",
       "      <td>1061</td>\n",
       "    </tr>\n",
       "    <tr>\n",
       "      <th>32</th>\n",
       "      <td>6</td>\n",
       "      <td>2</td>\n",
       "      <td>6343</td>\n",
       "    </tr>\n",
       "    <tr>\n",
       "      <th>33</th>\n",
       "      <td>6</td>\n",
       "      <td>3</td>\n",
       "      <td>15555</td>\n",
       "    </tr>\n",
       "    <tr>\n",
       "      <th>34</th>\n",
       "      <td>6</td>\n",
       "      <td>4</td>\n",
       "      <td>13860</td>\n",
       "    </tr>\n",
       "    <tr>\n",
       "      <th>35</th>\n",
       "      <td>7</td>\n",
       "      <td>-9</td>\n",
       "      <td>1031</td>\n",
       "    </tr>\n",
       "    <tr>\n",
       "      <th>36</th>\n",
       "      <td>7</td>\n",
       "      <td>1</td>\n",
       "      <td>964</td>\n",
       "    </tr>\n",
       "    <tr>\n",
       "      <th>37</th>\n",
       "      <td>7</td>\n",
       "      <td>2</td>\n",
       "      <td>12184</td>\n",
       "    </tr>\n",
       "    <tr>\n",
       "      <th>38</th>\n",
       "      <td>7</td>\n",
       "      <td>3</td>\n",
       "      <td>2997</td>\n",
       "    </tr>\n",
       "    <tr>\n",
       "      <th>39</th>\n",
       "      <td>7</td>\n",
       "      <td>4</td>\n",
       "      <td>21347</td>\n",
       "    </tr>\n",
       "    <tr>\n",
       "      <th>40</th>\n",
       "      <td>8</td>\n",
       "      <td>-9</td>\n",
       "      <td>441</td>\n",
       "    </tr>\n",
       "    <tr>\n",
       "      <th>41</th>\n",
       "      <td>8</td>\n",
       "      <td>1</td>\n",
       "      <td>413</td>\n",
       "    </tr>\n",
       "    <tr>\n",
       "      <th>42</th>\n",
       "      <td>8</td>\n",
       "      <td>2</td>\n",
       "      <td>1719</td>\n",
       "    </tr>\n",
       "    <tr>\n",
       "      <th>43</th>\n",
       "      <td>8</td>\n",
       "      <td>3</td>\n",
       "      <td>11157</td>\n",
       "    </tr>\n",
       "    <tr>\n",
       "      <th>44</th>\n",
       "      <td>8</td>\n",
       "      <td>4</td>\n",
       "      <td>21088</td>\n",
       "    </tr>\n",
       "    <tr>\n",
       "      <th>45</th>\n",
       "      <td>9</td>\n",
       "      <td>-9</td>\n",
       "      <td>1638</td>\n",
       "    </tr>\n",
       "    <tr>\n",
       "      <th>46</th>\n",
       "      <td>9</td>\n",
       "      <td>1</td>\n",
       "      <td>902</td>\n",
       "    </tr>\n",
       "    <tr>\n",
       "      <th>47</th>\n",
       "      <td>9</td>\n",
       "      <td>2</td>\n",
       "      <td>7010</td>\n",
       "    </tr>\n",
       "    <tr>\n",
       "      <th>48</th>\n",
       "      <td>9</td>\n",
       "      <td>3</td>\n",
       "      <td>6500</td>\n",
       "    </tr>\n",
       "    <tr>\n",
       "      <th>49</th>\n",
       "      <td>9</td>\n",
       "      <td>4</td>\n",
       "      <td>42433</td>\n",
       "    </tr>\n",
       "  </tbody>\n",
       "</table>\n",
       "</div>"
      ],
      "text/plain": [
       "    Occupation  Approximated Social Grade   Count\n",
       "0           -9                         -9  116915\n",
       "1           -9                          1    1051\n",
       "2           -9                          2   17787\n",
       "3           -9                          3    2062\n",
       "4           -9                          4   12169\n",
       "5            1                         -9     492\n",
       "6            1                          1   19190\n",
       "7            1                          2   18555\n",
       "8            1                          3     584\n",
       "9            1                          4     967\n",
       "10           2                         -9     884\n",
       "11           2                          1   48104\n",
       "12           2                          2   13223\n",
       "13           2                          3     891\n",
       "14           2                          4    1009\n",
       "15           3                         -9     819\n",
       "16           3                          1    7050\n",
       "17           3                          2   35435\n",
       "18           3                          3     647\n",
       "19           3                          4     986\n",
       "20           4                         -9     727\n",
       "21           4                          1    3000\n",
       "22           4                          2   44922\n",
       "23           4                          3    2353\n",
       "24           4                          4    2252\n",
       "25           5                         -9     678\n",
       "26           5                          1     585\n",
       "27           5                          2    2464\n",
       "28           5                          3   37190\n",
       "29           5                          4    7629\n",
       "30           6                         -9     478\n",
       "31           6                          1    1061\n",
       "32           6                          2    6343\n",
       "33           6                          3   15555\n",
       "34           6                          4   13860\n",
       "35           7                         -9    1031\n",
       "36           7                          1     964\n",
       "37           7                          2   12184\n",
       "38           7                          3    2997\n",
       "39           7                          4   21347\n",
       "40           8                         -9     441\n",
       "41           8                          1     413\n",
       "42           8                          2    1719\n",
       "43           8                          3   11157\n",
       "44           8                          4   21088\n",
       "45           9                         -9    1638\n",
       "46           9                          1     902\n",
       "47           9                          2    7010\n",
       "48           9                          3    6500\n",
       "49           9                          4   42433"
      ]
     },
     "execution_count": 34,
     "metadata": {},
     "output_type": "execute_result"
    }
   ],
   "source": [
    "byOccupationAndSocialGrade = refinedData[['Occupation', 'Approximated Social Grade']].copy()\n",
    "byOccupationAndSocialGrade = byOccupationAndSocialGrade.groupby(['Occupation', 'Approximated Social Grade']).size()\n",
    "byOccupationAndSocialGrade.reset_index(name='Count')"
   ]
  },
  {
   "cell_type": "markdown",
   "metadata": {},
   "source": [
    "The second easy additional requirement is to learn how to use pandas to perform various queries. The first being to find the number of economically active people by region."
   ]
  },
  {
   "cell_type": "code",
   "execution_count": 35,
   "metadata": {
    "collapsed": false
   },
   "outputs": [
    {
     "data": {
      "text/html": [
       "<div>\n",
       "<table border=\"1\" class=\"dataframe\">\n",
       "  <thead>\n",
       "    <tr style=\"text-align: right;\">\n",
       "      <th></th>\n",
       "      <th>Region</th>\n",
       "      <th>Count</th>\n",
       "    </tr>\n",
       "  </thead>\n",
       "  <tbody>\n",
       "    <tr>\n",
       "      <th>0</th>\n",
       "      <td>E12000001</td>\n",
       "      <td>12897</td>\n",
       "    </tr>\n",
       "    <tr>\n",
       "      <th>1</th>\n",
       "      <td>E12000002</td>\n",
       "      <td>35204</td>\n",
       "    </tr>\n",
       "    <tr>\n",
       "      <th>2</th>\n",
       "      <td>E12000003</td>\n",
       "      <td>26843</td>\n",
       "    </tr>\n",
       "    <tr>\n",
       "      <th>3</th>\n",
       "      <td>E12000004</td>\n",
       "      <td>23106</td>\n",
       "    </tr>\n",
       "    <tr>\n",
       "      <th>4</th>\n",
       "      <td>E12000005</td>\n",
       "      <td>27930</td>\n",
       "    </tr>\n",
       "    <tr>\n",
       "      <th>5</th>\n",
       "      <td>E12000006</td>\n",
       "      <td>30568</td>\n",
       "    </tr>\n",
       "    <tr>\n",
       "      <th>6</th>\n",
       "      <td>E12000007</td>\n",
       "      <td>44454</td>\n",
       "    </tr>\n",
       "    <tr>\n",
       "      <th>7</th>\n",
       "      <td>E12000008</td>\n",
       "      <td>45551</td>\n",
       "    </tr>\n",
       "    <tr>\n",
       "      <th>8</th>\n",
       "      <td>E12000009</td>\n",
       "      <td>27453</td>\n",
       "    </tr>\n",
       "    <tr>\n",
       "      <th>9</th>\n",
       "      <td>W92000004</td>\n",
       "      <td>14877</td>\n",
       "    </tr>\n",
       "  </tbody>\n",
       "</table>\n",
       "</div>"
      ],
      "text/plain": [
       "      Region  Count\n",
       "0  E12000001  12897\n",
       "1  E12000002  35204\n",
       "2  E12000003  26843\n",
       "3  E12000004  23106\n",
       "4  E12000005  27930\n",
       "5  E12000006  30568\n",
       "6  E12000007  44454\n",
       "7  E12000008  45551\n",
       "8  E12000009  27453\n",
       "9  W92000004  14877"
      ]
     },
     "execution_count": 35,
     "metadata": {},
     "output_type": "execute_result"
    }
   ],
   "source": [
    "data = refinedData[(refinedData['Economic Activity'] < 5) & (refinedData['Economic Activity']>-1)]\n",
    "\n",
    "byRegionAndEconomicActivity = data[['Region', 'Economic Activity']].copy()\n",
    "byRegionAndEconomicActivity = byRegionAndEconomicActivity.groupby(['Region']).size()\n",
    "byRegionAndEconomicActivity.reset_index(name='Count')"
   ]
  },
  {
   "cell_type": "markdown",
   "metadata": {},
   "source": [
    "The second to find the number of exonomically active people by age."
   ]
  },
  {
   "cell_type": "code",
   "execution_count": 36,
   "metadata": {
    "collapsed": false
   },
   "outputs": [
    {
     "data": {
      "text/html": [
       "<div>\n",
       "<table border=\"1\" class=\"dataframe\">\n",
       "  <thead>\n",
       "    <tr style=\"text-align: right;\">\n",
       "      <th></th>\n",
       "      <th>Age</th>\n",
       "      <th>Count</th>\n",
       "    </tr>\n",
       "  </thead>\n",
       "  <tbody>\n",
       "    <tr>\n",
       "      <th>0</th>\n",
       "      <td>2</td>\n",
       "      <td>41663</td>\n",
       "    </tr>\n",
       "    <tr>\n",
       "      <th>1</th>\n",
       "      <td>3</td>\n",
       "      <td>64326</td>\n",
       "    </tr>\n",
       "    <tr>\n",
       "      <th>2</th>\n",
       "      <td>4</td>\n",
       "      <td>67050</td>\n",
       "    </tr>\n",
       "    <tr>\n",
       "      <th>3</th>\n",
       "      <td>5</td>\n",
       "      <td>65736</td>\n",
       "    </tr>\n",
       "    <tr>\n",
       "      <th>4</th>\n",
       "      <td>6</td>\n",
       "      <td>40584</td>\n",
       "    </tr>\n",
       "    <tr>\n",
       "      <th>5</th>\n",
       "      <td>7</td>\n",
       "      <td>8022</td>\n",
       "    </tr>\n",
       "    <tr>\n",
       "      <th>6</th>\n",
       "      <td>8</td>\n",
       "      <td>1502</td>\n",
       "    </tr>\n",
       "  </tbody>\n",
       "</table>\n",
       "</div>"
      ],
      "text/plain": [
       "   Age  Count\n",
       "0    2  41663\n",
       "1    3  64326\n",
       "2    4  67050\n",
       "3    5  65736\n",
       "4    6  40584\n",
       "5    7   8022\n",
       "6    8   1502"
      ]
     },
     "execution_count": 36,
     "metadata": {},
     "output_type": "execute_result"
    }
   ],
   "source": [
    "data = refinedData[(refinedData['Economic Activity'] < 5) & (refinedData['Economic Activity']>-1)]\n",
    "\n",
    "byRegionAndEconomicActivity = data[['Age', 'Economic Activity']].copy()\n",
    "byRegionAndEconomicActivity = byRegionAndEconomicActivity.groupby(['Age']).size()\n",
    "byRegionAndEconomicActivity.reset_index(name='Count')"
   ]
  },
  {
   "cell_type": "markdown",
   "metadata": {},
   "source": [
    "The thrid to find wherther or not there are any discrepancies between the student status given by the question \"Student\" and answers on the question \"Economic activity\"."
   ]
  },
  {
   "cell_type": "code",
   "execution_count": 37,
   "metadata": {
    "collapsed": false
   },
   "outputs": [
    {
     "data": {
      "text/html": [
       "<div>\n",
       "<table border=\"1\" class=\"dataframe\">\n",
       "  <thead>\n",
       "    <tr style=\"text-align: right;\">\n",
       "      <th></th>\n",
       "      <th>Person ID</th>\n",
       "      <th>Region</th>\n",
       "      <th>Residence Type</th>\n",
       "      <th>Family Composition</th>\n",
       "      <th>Population Base</th>\n",
       "      <th>Sex</th>\n",
       "      <th>Age</th>\n",
       "      <th>Marital Status</th>\n",
       "      <th>Student</th>\n",
       "      <th>Country of Birth</th>\n",
       "      <th>Health</th>\n",
       "      <th>Ethnic Group</th>\n",
       "      <th>Religion</th>\n",
       "      <th>Economic Activity</th>\n",
       "      <th>Occupation</th>\n",
       "      <th>Industry</th>\n",
       "      <th>Hours worked per week</th>\n",
       "      <th>Approximated Social Grade</th>\n",
       "    </tr>\n",
       "  </thead>\n",
       "  <tbody>\n",
       "  </tbody>\n",
       "</table>\n",
       "</div>"
      ],
      "text/plain": [
       "Empty DataFrame\n",
       "Columns: [Person ID, Region, Residence Type, Family Composition, Population Base, Sex, Age, Marital Status, Student, Country of Birth, Health, Ethnic Group, Religion, Economic Activity, Occupation, Industry, Hours worked per week, Approximated Social Grade]\n",
       "Index: []"
      ]
     },
     "execution_count": 37,
     "metadata": {},
     "output_type": "execute_result"
    }
   ],
   "source": [
    "data = refinedData[((refinedData['Student'] == 1) & \n",
    "                   ((refinedData['Economic Activity'] != 4 ) &\n",
    "                   (refinedData['Economic Activity'] != 6 ) &\n",
    "                   (refinedData['Economic Activity'] != -9 ))) |\n",
    "                   ((refinedData['Student'] == 2) & \n",
    "                   ((refinedData['Economic Activity'] == 4 ) &\n",
    "                   (refinedData['Economic Activity'] == 6 ) &\n",
    "                   (refinedData['Economic Activity'] == -9 )))]\n",
    "data"
   ]
  },
  {
   "cell_type": "markdown",
   "metadata": {},
   "source": [
    "Finally, the forth is to find the number of working hours per week for students."
   ]
  },
  {
   "cell_type": "code",
   "execution_count": 69,
   "metadata": {
    "collapsed": false
   },
   "outputs": [
    {
     "data": {
      "text/html": [
       "<div>\n",
       "<table border=\"1\" class=\"dataframe\">\n",
       "  <thead>\n",
       "    <tr style=\"text-align: right;\">\n",
       "      <th></th>\n",
       "      <th>Hours worked per week</th>\n",
       "      <th>Count</th>\n",
       "    </tr>\n",
       "  </thead>\n",
       "  <tbody>\n",
       "    <tr>\n",
       "      <th>0</th>\n",
       "      <td>-9</td>\n",
       "      <td>28110</td>\n",
       "    </tr>\n",
       "    <tr>\n",
       "      <th>1</th>\n",
       "      <td>1</td>\n",
       "      <td>6465</td>\n",
       "    </tr>\n",
       "    <tr>\n",
       "      <th>2</th>\n",
       "      <td>2</td>\n",
       "      <td>2334</td>\n",
       "    </tr>\n",
       "    <tr>\n",
       "      <th>3</th>\n",
       "      <td>3</td>\n",
       "      <td>1683</td>\n",
       "    </tr>\n",
       "    <tr>\n",
       "      <th>4</th>\n",
       "      <td>4</td>\n",
       "      <td>281</td>\n",
       "    </tr>\n",
       "  </tbody>\n",
       "</table>\n",
       "</div>"
      ],
      "text/plain": [
       "   Hours worked per week  Count\n",
       "0                     -9  28110\n",
       "1                      1   6465\n",
       "2                      2   2334\n",
       "3                      3   1683\n",
       "4                      4    281"
      ]
     },
     "execution_count": 69,
     "metadata": {},
     "output_type": "execute_result"
    }
   ],
   "source": [
    "data = refinedData[(refinedData['Economic Activity'] == 4) | (refinedData['Economic Activity'] == 6)]\n",
    "\n",
    "byRegionAndEconomicActivity = data[['Hours worked per week', 'Economic Activity']].copy()\n",
    "byRegionAndEconomicActivity = byRegionAndEconomicActivity.groupby(['Hours worked per week']).size()\n",
    "byRegionAndEconomicActivity.reset_index(name='Count')"
   ]
  },
  {
   "cell_type": "code",
   "execution_count": 102,
   "metadata": {
    "collapsed": false
   },
   "outputs": [
    {
     "data": {
      "image/png": "[encoded data removed]",
      "text/plain": [
       "<matplotlib.figure.Figure at 0x7efc09ac0e10>"
      ]
     },
     "metadata": {},
     "output_type": "display_data"
    }
   ],
   "source": [
    "import matplotlib.pyplot as plt\n",
    "from mpl_toolkits.mplot3d.axes3d import Axes3D, get_test_data\n",
    "from mpl_toolkits.mplot3d.art3d import Poly3DCollection\n",
    "from matplotlib import cm\n",
    "import numpy as np\n",
    "from operator import itemgetter\n",
    "\n",
    "occupationarray = [1,2,3,4,5,6,7,8,9,-9]\n",
    "socialarray = [1,2,3,4,-9]\n",
    "\n",
    "\n",
    "fig = plt.figure()\n",
    "ax = fig.add_subplot(111, projection = '3d')\n",
    "ax = Axes3D(fig)\n",
    "\n",
    "byOccupationAndSocialGrade = refinedData[['Occupation', 'Approximated Social Grade']].copy()\n",
    "byOccupationAndSocialGrade = byOccupationAndSocialGrade.groupby(['Occupation', 'Approximated Social Grade'])\n",
    "#byOccupationAndSocialGrade.reset_index(name='Count')\n",
    "#byOccupationAndSocialGrade\n",
    "\n",
    "\n",
    "z = byOccupationAndSocialGrade.size().tolist()\n",
    "axes = byOccupationAndSocialGrade.groups.keys()\n",
    "\n",
    "axes = sorted(axes, key=operator.itemgetter(1))\n",
    "axes = sorted(axes, key=operator.itemgetter(0))\n",
    "\n",
    "counter = 0\n",
    "for item in occupationarray:\n",
    "    for val in socialarray:\n",
    "        if(item, val) not in axes:\n",
    "            values.insert(counter, 0)\n",
    "        counter = counter +1\n",
    "        \n",
    "x = list(range(0, len(occupationarray)))\n",
    "y = list(range(0, len(socialarray)))\n",
    "\n",
    "X, Y = np.meshgrid(x,y)\n",
    "\n",
    "zs = np.array(z)\n",
    "Z = zs.reshape(X.shape)\n",
    "\n",
    "ax.plot_surface(X,Y,Z)\n",
    "\n",
    "ax.set_xticks(x)\n",
    "ax.set_yticks(y)\n",
    "\n",
    "ax.set_xticklabels(np.array(occupationarray))\n",
    "ax.set_yticklabels(np.array(socialarray))\n",
    "\n",
    "ax.set_xlabel(\"Occupation\")\n",
    "ax.set_ylabel(\"Social\")\n",
    "ax.set_zlabel(\"Count\")\n",
    "\n",
    "plt.show()\n"
   ]
  },
  {
   "cell_type": "code",
   "execution_count": 71,
   "metadata": {
    "collapsed": false
   },
   "outputs": [],
   "source": [
    "#from __future__ import print_function\n",
    "#from ipywidgets import interact, interactive, fixed, interact_manualdata:image/png;base64,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\n",
    "#import ipywidgets as widgets"
   ]
  },
  {
   "cell_type": "code",
   "execution_count": 72,
   "metadata": {
    "collapsed": false
   },
   "outputs": [
    {
     "ename": "NameError",
     "evalue": "name 'widgets' is not defined",
     "output_type": "error",
     "traceback": [
      "\u001b[1;31m---------------------------------------------------------------------------\u001b[0m",
      "\u001b[1;31mNameError\u001b[0m                                 Traceback (most recent call last)",
      "\u001b[1;32m<ipython-input-72-6793fea59b24>\u001b[0m in \u001b[0;36m<module>\u001b[1;34m()\u001b[0m\n\u001b[0;32m      4\u001b[0m \u001b[0mrefinedData\u001b[0m\u001b[1;33m[\u001b[0m\u001b[1;34m'Age'\u001b[0m\u001b[1;33m]\u001b[0m\u001b[1;33m.\u001b[0m\u001b[0munique\u001b[0m\u001b[1;33m(\u001b[0m\u001b[1;33m)\u001b[0m\u001b[1;33m\u001b[0m\u001b[0m\n\u001b[0;32m      5\u001b[0m \u001b[1;33m\u001b[0m\u001b[0m\n\u001b[1;32m----> 6\u001b[1;33m age = widgets.FloatSlider(\n\u001b[0m\u001b[0;32m      7\u001b[0m     \u001b[0mvalue\u001b[0m\u001b[1;33m=\u001b[0m\u001b[1;36m1.0\u001b[0m\u001b[1;33m,\u001b[0m\u001b[1;33m\u001b[0m\u001b[0m\n\u001b[0;32m      8\u001b[0m     \u001b[0mmin\u001b[0m\u001b[1;33m=\u001b[0m\u001b[1;36m1.0\u001b[0m\u001b[1;33m,\u001b[0m\u001b[1;33m\u001b[0m\u001b[0m\n",
      "\u001b[1;31mNameError\u001b[0m: name 'widgets' is not defined"
     ]
    }
   ],
   "source": [
    "regionData = refinedData['Region']\n",
    "ageData = refinedData[\"Age\"]\n",
    "refinedData['Region'].unique()\n",
    "refinedData['Age'].unique()\n",
    "\n",
    "age = widgets.FloatSlider(\n",
    "    value=1.0,\n",
    "    min=1.0,\n",
    "    max=8.0,\n",
    "    step=1.0,\n",
    "    description='Age:',\n",
    "    continuous_update = False\n",
    ")"
   ]
  },
  {
   "cell_type": "code",
   "execution_count": null,
   "metadata": {
    "collapsed": true
   },
   "outputs": [],
   "source": []
  },
  {
   "cell_type": "code",
   "execution_count": null,
   "metadata": {
    "collapsed": true
   },
   "outputs": [],
   "source": []
  }
 ],
 "metadata": {
  "kernelspec": {
   "display_name": "Python 3",
   "language": "python",
   "name": "python3"
  },
  "language_info": {
   "codemirror_mode": {
    "name": "ipython",
    "version": 3
   },
   "file_extension": ".py",
   "mimetype": "text/x-python",
   "name": "python",
   "nbconvert_exporter": "python",
   "pygments_lexer": "ipython3",
   "version": "3.5.3"
  }
 },
 "nbformat": 4,
 "nbformat_minor": 0
}
