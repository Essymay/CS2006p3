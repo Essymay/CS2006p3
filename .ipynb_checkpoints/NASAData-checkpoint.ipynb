{
 "cells": [
  {
   "cell_type": "markdown",
   "metadata": {},
   "source": [
    "Hard Additional Requirement 2"
   ]
  },
  {
   "cell_type": "markdown",
   "metadata": {},
   "source": [
    "The aim of this additional requirment is to analyse some other data sets."
   ]
  },
  {
   "cell_type": "markdown",
   "metadata": {},
   "source": [
    "The data set being analysed in this notebook is data that NASA has collected: https://data.nasa.gov/Space-Science/Meteorite-Landings/gh4g-9sfh. A discription of each of the columns is available at: https://www.kaggle.com/nasa/meteorite-landings"
   ]
  },
  {
   "cell_type": "code",
   "execution_count": null,
   "metadata": {},
   "outputs": [],
   "source": [
    "import pandas as pd\n",
    "import numpy as np\n",
    "import matplotlib.pyplot as plt\n",
    "import matplotlib.patches as patch\n",
    "from ipywidgets import *\n",
    "%matplotlib inline\n",
    "import matplotlib.pyplot as plt\n",
    "from mpl_toolkits.mplot3d.axes3d import Axes3D, get_test_data\n",
    "from mpl_toolkits.mplot3d.art3d import Poly3DCollection\n",
    "from matplotlib import cm\n",
    "from operator import itemgetter\n",
    "\n",
    "import pandas as pd\n",
    "import numpy as np\n",
    "import plotly\n",
    "import plotly.graph_objs as go\n",
    "import plotly.plotly as py\n",
    "\n",
    "from ipywidgets import widgets \n",
    "from IPython.display import display\n",
    "from plotly.graph_objs import *\n",
    "from plotly.widgets import GraphWidget\n",
    "from plotly.offline import download_plotlyjs, init_notebook_mode, plot, iplot\n",
    "plotly.offline.init_notebook_mode(connected=True)\n",
    "\n",
    "import cufflinks as cf\n",
    "init_notebook_mode(connected=True)\n",
    "\n",
    "from scipy.misc import imread"
   ]
  },
  {
   "cell_type": "markdown",
   "metadata": {},
   "source": [
    "First the data needs to be read in."
   ]
  },
  {
   "cell_type": "code",
   "execution_count": null,
   "metadata": {
    "collapsed": true
   },
   "outputs": [],
   "source": [
    "df=pd.read_csv(\"Meteorite_Landings.csv\")"
   ]
  },
  {
   "cell_type": "markdown",
   "metadata": {},
   "source": [
    "Secondly the refining of the data is done, so any duplicate rows, or row which have a 'None' value is dropped."
   ]
  },
  {
   "cell_type": "code",
   "execution_count": null,
   "metadata": {
    "collapsed": true
   },
   "outputs": [],
   "source": [
    "refinedNASA = df.copy()\n",
    "refinedNASA = refinedNASA.dropna()\n",
    "refinedNASA = refinedNASA.drop_duplicates()"
   ]
  },
  {
   "cell_type": "markdown",
   "metadata": {},
   "source": [
    "Then the only two columns which have a limited number of possible values are checked, and any row which has invalid values also gets dropped. These possible values was specified in the links up above in the explanation of the NASA data."
   ]
  },
  {
   "cell_type": "code",
   "execution_count": null,
   "metadata": {
    "collapsed": true
   },
   "outputs": [],
   "source": [
    "#possible valid values\n",
    "fallarray = ['Fell', 'Found']\n",
    "nametypearray = ['Valid', 'Relict']\n",
    "\n",
    "#keeps track fo which rows are invalid so need to be removed\n",
    "rowsToRemove = []\n",
    "\n",
    "#for each column the values are all checked\n",
    "rCounter = 0\n",
    "falls = refinedNASA['fall']\n",
    "for fa in falls:\n",
    "    flag = 1\n",
    "    for f in fallarray:\n",
    "                if f == fa:\n",
    "                    flag = 0\n",
    "    if flag == 1:\n",
    "        rowsToRemove.append(rCounter)\n",
    "    rCounter = rCounter + 1\n",
    "\n",
    "rCounter = 0\n",
    "types = refinedNASA['nametype']  \n",
    "for typ in types:\n",
    "    flag = 1\n",
    "    for name in nametypearray:\n",
    "                if name == typ:\n",
    "                    flag = 0\n",
    "    if flag == 1:\n",
    "        rowsToRemove.append(rCounter)\n",
    "    rCounter = rCounter + 1\n",
    "     \n",
    "#list is reversed so that when the rows are getting removed it doesn't interfere with the indexes of other rows\n",
    "rowsToRemove.sort(reverse=True)\n",
    "\n",
    "for i in rowsToRemove:\n",
    "    refinedNASA = refinedNASA.drop(refinedNASA.index[[i]])\n",
    "\n",
    "#CSV file for the refined Data is made\n",
    "refinedNASA.to_csv(\"refinedNASA.csv\")"
   ]
  },
  {
   "cell_type": "markdown",
   "metadata": {},
   "source": [
    "Finding all the possible values for each column and their occurances, all except 'name' and 'id'."
   ]
  },
  {
   "cell_type": "code",
   "execution_count": null,
   "metadata": {},
   "outputs": [],
   "source": [
    "nametype = refinedNASA.groupby('nametype')\n",
    "nametype.size().sort_values()"
   ]
  },
  {
   "cell_type": "code",
   "execution_count": null,
   "metadata": {},
   "outputs": [],
   "source": [
    "recclass = refinedNASA.groupby('recclass')\n",
    "recclass.size().sort_values()"
   ]
  },
  {
   "cell_type": "code",
   "execution_count": null,
   "metadata": {},
   "outputs": [],
   "source": [
    "fall = refinedNASA.groupby('fall')\n",
    "fall.size().sort_values()"
   ]
  },
  {
   "cell_type": "code",
   "execution_count": null,
   "metadata": {},
   "outputs": [],
   "source": [
    "year = refinedNASA.groupby('year')\n",
    "year.size().sort_values()"
   ]
  },
  {
   "cell_type": "code",
   "execution_count": null,
   "metadata": {},
   "outputs": [],
   "source": [
    "reclat = refinedNASA.groupby('reclat')\n",
    "reclat.size().sort_values()"
   ]
  },
  {
   "cell_type": "code",
   "execution_count": null,
   "metadata": {},
   "outputs": [],
   "source": [
    "reclong = refinedNASA.groupby('reclong')\n",
    "reclong.size().sort_values()"
   ]
  },
  {
   "cell_type": "code",
   "execution_count": null,
   "metadata": {},
   "outputs": [],
   "source": [
    "GeoLocation = refinedNASA.groupby('GeoLocation')\n",
    "GeoLocation.size().sort_values()"
   ]
  },
  {
   "cell_type": "markdown",
   "metadata": {},
   "source": [
    "This bar plot shows all the possible clas of metorite, 'recclass', and the number of records each one has. Double-click on the figure to see in detail."
   ]
  },
  {
   "cell_type": "code",
   "execution_count": null,
   "metadata": {
    "scrolled": false
   },
   "outputs": [],
   "source": [
    "ax = refinedNASA['recclass'].value_counts().plot(kind=\"bar\", figsize=(155, 150))\n",
    "ax.set_xlabel(\"Recclass\")\n",
    "ax.set_ylabel(\"Count\")\n",
    "plt.show()"
   ]
  },
  {
   "cell_type": "markdown",
   "metadata": {},
   "source": [
    "This line plot shows the masses, in grams, of each meteorite recorded."
   ]
  },
  {
   "cell_type": "code",
   "execution_count": null,
   "metadata": {},
   "outputs": [],
   "source": [
    "ax = refinedNASA[['mass (g)']].plot(kind=\"line\", figsize=(10,10))\n",
    "ax.set_xlabel(\"Record in Data-Frame\")\n",
    "ax.set_ylabel(\"Mass (g) 10s of Millions\")\n",
    "#setting the y axis to have more helpful axis values\n",
    "ax.set_yticks([0, 5000000, 10000000,25000000,35000000, 50000000,60000000, 70000000])\n",
    "plt.show()"
   ]
  },
  {
   "cell_type": "markdown",
   "metadata": {},
   "source": [
    "In this next plot, a pie chart was used to show the number of metorites recorded in each year, the years which had less that 200 metorites were grouped together, to make the chart easier to see and to show all the labels clearly."
   ]
  },
  {
   "cell_type": "code",
   "execution_count": null,
   "metadata": {},
   "outputs": [],
   "source": [
    "colors = ['#009933', '#00cc66', '#009999', '#336699', '#003399', '#0099ff', '#00ffcc', '#3333cc', '#9999ff', '#99ccff']\n",
    "\n",
    "data = refinedNASA.copy()\n",
    "possibleYears = data.year.unique()\n",
    "#keeping trach of all the rows to remove\n",
    "rowsToRemove = []\n",
    "\n",
    "years = data['year']  \n",
    "for possible in possibleYears:\n",
    "    rCounter = 0\n",
    "    flag = 1\n",
    "    tempRows = []\n",
    "    for year in years:\n",
    "                if possible == year:\n",
    "                    flag = flag +1\n",
    "                    if rCounter not in tempRows:\n",
    "                        tempRows.append(rCounter)\n",
    "                rCounter = rCounter + 1\n",
    "    #if there were less than 200 occurances of this year then it gets added to the remove list\n",
    "    if flag < 200:\n",
    "        #makes sure the row doesn't get added twice to the remove list\n",
    "        for num in tempRows:\n",
    "            if num not in rowsToRemove:\n",
    "                rowsToRemove.append(num)\n",
    "\n",
    "#keeps track of how many lines to re-add once they've been dropped\n",
    "linesToAdd = len(rowsToRemove)\n",
    "rowsToRemove.sort(reverse=True)\n",
    "for i in rowsToRemove:\n",
    "    data = data.drop(data.index[[i]])\n",
    "    \n",
    "#adds the same number of rows as deleted all with the same value for 'year'\n",
    "for i in range(0, linesToAdd):\n",
    "    line = pd.DataFrame([[1,1,1,1,1,1, \"Other Years\" ,1,1,1]], columns=['name', 'id', 'nametype', 'recclass', 'mass (g)', 'fall', 'year', 'reclat', 'reclong', 'GeoLocation'])\n",
    "    data = data.append(line, ignore_index=True)\n",
    "\n",
    "data['year'].value_counts().plot(kind=\"pie\", colors = colors, figsize=(10,10))\n",
    "plt.show()"
   ]
  },
  {
   "cell_type": "markdown",
   "metadata": {},
   "source": [
    "This interactive widget allows the user to look at the locations where Meteorites have fallen. To make it actually usable, the list of meteorites had to be limited, otherwise the list of them takes too long to generate and can sometimes crash the notebook due to the sheer number of records. The axes are as accurate as they could be made in accordance with the numbers on the map background image. The tab for the options available takes a bit of time to open, but if you give it a minute it will open."
   ]
  },
  {
   "cell_type": "code",
   "execution_count": null,
   "metadata": {},
   "outputs": [],
   "source": [
    "#the image used as the background\n",
    "img = imread(\"world-latitudes.jpg\")\n",
    "name = list(refinedNASA.name.unique())\n",
    "#limits the list to every 5th element, this can be changed to the full list, but it takes a while to collect all the data\n",
    "names = name[::5]\n",
    "#the function to make it interactive\n",
    "def update(Meteorite = names):\n",
    "    fig = plt.figure(figsize=(15,12))\n",
    "    ax = fig.add_subplot(1, 1, 1)\n",
    "    #gets the data for the Meteorite the user has selected\n",
    "    data = refinedNASA[(((refinedNASA['name'] == Meteorite)))]\n",
    "    #gets the 'GeoLocation' for the record\n",
    "    geo = data.GeoLocation.iloc[0]\n",
    "    numbers = geo.split(\"(\")\n",
    "    numbers = numbers[1].split(\")\")\n",
    "    numbers = numbers[0].split(\", \")\n",
    "    #separates the two values fromt he data and stores them ready to be used\n",
    "    latitude = numbers[0]\n",
    "    longitude = numbers[1]\n",
    "    #sets the values for the y axis to be as close to the onces on the background image\n",
    "    ax.set_yticks([-80,-60, -40, 0, 40,60, 80])\n",
    "    ax.imshow(img, extent=[(-175),175,(-90),90])\n",
    "    #drawing the two lines for the lat value and long value\n",
    "    ax.axhline(y=(float(latitude)), color='red')\n",
    "    ax.axvline(x=(float(longitude)), color='red')\n",
    "    fig.canvas.draw()\n",
    "\n",
    "interact(update);"
   ]
  }
 ],
 "metadata": {
  "kernelspec": {
   "display_name": "Python 3",
   "language": "python",
   "name": "python3"
  },
  "language_info": {
   "codemirror_mode": {
    "name": "ipython",
    "version": 3
   },
   "file_extension": ".py",
   "mimetype": "text/x-python",
   "name": "python",
   "nbconvert_exporter": "python",
   "pygments_lexer": "ipython3",
   "version": "3.5.3"
  }
 },
 "nbformat": 4,
 "nbformat_minor": 2
}
